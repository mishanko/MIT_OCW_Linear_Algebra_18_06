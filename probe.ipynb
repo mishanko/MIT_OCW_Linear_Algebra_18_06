{
 "cells": [
  {
   "cell_type": "code",
   "execution_count": 1,
   "metadata": {},
   "outputs": [],
   "source": [
    "from sympy import init_printing, Matrix, symbols, eye, Rational\n",
    "init_printing()"
   ]
  },
  {
   "cell_type": "code",
   "execution_count": 11,
   "metadata": {},
   "outputs": [
    {
     "data": {
      "image/png": "[encoded data removed]",
      "text/latex": [
       "$\\displaystyle 2$"
      ],
      "text/plain": [
       "2"
      ]
     },
     "execution_count": 11,
     "metadata": {},
     "output_type": "execute_result"
    }
   ],
   "source": [
    "A = Matrix([[2,0],[1,1],[1,2]])\n",
    "(A.T*A).rank()"
   ]
  },
  {
   "cell_type": "code",
   "execution_count": 22,
   "metadata": {},
   "outputs": [
    {
     "data": {
      "text/latex": [
       "$\\displaystyle \\left[\\begin{matrix}1 & a & a b & a b c\\\\0 & 1 & b & b c\\\\0 & 0 & 1 & c\\\\0 & 0 & 0 & 1\\end{matrix}\\right]$"
      ],
      "text/plain": [
       "⎡1  a  a⋅b  a⋅b⋅c⎤\n",
       "⎢                ⎥\n",
       "⎢0  1   b    b⋅c ⎥\n",
       "⎢                ⎥\n",
       "⎢0  0   1     c  ⎥\n",
       "⎢                ⎥\n",
       "⎣0  0   0     1  ⎦"
      ]
     },
     "execution_count": 22,
     "metadata": {},
     "output_type": "execute_result"
    }
   ],
   "source": [
    "a, b, c = symbols('a b c')\n",
    "A = Matrix([[1, -a, 0, 0], [0, 1, -b, 0], [0, 0, 1, -c], [0, 0, 0, 1]])\n",
    "A.inv()"
   ]
  },
  {
   "cell_type": "code",
   "execution_count": 20,
   "metadata": {},
   "outputs": [
    {
     "data": {
      "text/latex": [
       "$\\displaystyle \\left[\\begin{matrix}1.0 & 0.5 & 0.333333333333333 & 0.25 & 0.2 & 0.166666666666667\\\\0.5 & 0.333333333333333 & 0.25 & 0.2 & 0.166666666666667 & 0.142857142857143\\\\0.333333333333333 & 0.25 & 0.2 & 0.166666666666667 & 0.142857142857143 & 0.125\\\\0.25 & 0.2 & 0.166666666666667 & 0.142857142857143 & 0.125 & 0.111111111111111\\\\0.2 & 0.166666666666667 & 0.142857142857143 & 0.125 & 0.111111111111111 & 0.1\\\\0.166666666666667 & 0.142857142857143 & 0.125 & 0.111111111111111 & 0.1 & 0.0909090909090909\\end{matrix}\\right]$"
      ],
      "text/plain": [
       "⎡       1.0                0.5         0.333333333333333        0.25           ↪\n",
       "⎢                                                                              ↪\n",
       "⎢       0.5         0.333333333333333        0.25                0.2         0 ↪\n",
       "⎢                                                                              ↪\n",
       "⎢0.333333333333333        0.25                0.2         0.166666666666667  0 ↪\n",
       "⎢                                                                              ↪\n",
       "⎢      0.25                0.2         0.166666666666667  0.142857142857143    ↪\n",
       "⎢                                                                              ↪\n",
       "⎢       0.2         0.166666666666667  0.142857142857143        0.125        0 ↪\n",
       "⎢                                                                              ↪\n",
       "⎣0.166666666666667  0.142857142857143        0.125        0.111111111111111    ↪\n",
       "\n",
       "↪       0.2         0.166666666666667 ⎤\n",
       "↪                                     ⎥\n",
       "↪ .166666666666667  0.142857142857143 ⎥\n",
       "↪                                     ⎥\n",
       "↪ .142857142857143        0.125       ⎥\n",
       "↪                                     ⎥\n",
       "↪      0.125        0.111111111111111 ⎥\n",
       "↪                                     ⎥\n",
       "↪ .111111111111111         0.1        ⎥\n",
       "↪                                     ⎥\n",
       "↪       0.1         0.0909090909090909⎦"
      ]
     },
     "execution_count": 20,
     "metadata": {},
     "output_type": "execute_result"
    }
   ],
   "source": [
    "H = Matrix([[1/(i+j-1) for j in range(1, 7)] for i in range(1, 7)])\n",
    "H"
   ]
  },
  {
   "cell_type": "code",
   "execution_count": 21,
   "metadata": {},
   "outputs": [
    {
     "data": {
      "text/latex": [
       "$\\displaystyle \\left[\\begin{matrix}36.0000000013562 & -630.000000040176 & 3360.00000027771 & -7560.00000073264 & 7560.00000081682 & -2772.00000032427\\\\-630.00000003998 & 14700.000001183 & -88200.0000081722 & 211680.000021549 & -220500.000024018 & 83160.0000095327\\\\3360.00000027568 & -88200.0000081517 & 564480.000056287 & -1411200.00014838 & 1512000.00016535 & -582120.000065617\\\\-7560.0000007261 & 211680.00002146 & -1411200.00014814 & 3628800.00039045 & -3969000.00043504 & 1552320.00017262\\\\7560.00000080865 & -220500.000023891 & 1512000.00016489 & -3969000.00043453 & 4410000.00048411 & -1746360.00019208\\\\-2772.00000032077 & 83160.0000094744 & -582120.000065378 & 1552320.00017228 & -1746360.00019192 & 698544.000076145\\end{matrix}\\right]$"
      ],
      "text/plain": [
       "⎡36.0000000013562   -630.000000040176  3360.00000027771   -7560.00000073264  7 ↪\n",
       "⎢                                                                              ↪\n",
       "⎢-630.00000003998    14700.000001183   -88200.0000081722  211680.000021549   - ↪\n",
       "⎢                                                                              ↪\n",
       "⎢3360.00000027568   -88200.0000081517  564480.000056287   -1411200.00014838  1 ↪\n",
       "⎢                                                                              ↪\n",
       "⎢-7560.0000007261    211680.00002146   -1411200.00014814  3628800.00039045   - ↪\n",
       "⎢                                                                              ↪\n",
       "⎢7560.00000080865   -220500.000023891  1512000.00016489   -3969000.00043453  4 ↪\n",
       "⎢                                                                              ↪\n",
       "⎣-2772.00000032077  83160.0000094744   -582120.000065378  1552320.00017228   - ↪\n",
       "\n",
       "↪ 560.00000081682   -2772.00000032427⎤\n",
       "↪                                    ⎥\n",
       "↪ 220500.000024018  83160.0000095327 ⎥\n",
       "↪                                    ⎥\n",
       "↪ 512000.00016535   -582120.000065617⎥\n",
       "↪                                    ⎥\n",
       "↪ 3969000.00043504  1552320.00017262 ⎥\n",
       "↪                                    ⎥\n",
       "↪ 410000.00048411   -1746360.00019208⎥\n",
       "↪                                    ⎥\n",
       "↪ 1746360.00019192  698544.000076145 ⎦"
      ]
     },
     "execution_count": 21,
     "metadata": {},
     "output_type": "execute_result"
    }
   ],
   "source": [
    "H.inv()"
   ]
  },
  {
   "cell_type": "code",
   "execution_count": 18,
   "metadata": {},
   "outputs": [
    {
     "data": {
      "text/latex": [
       "$\\displaystyle \\left[\\begin{matrix}1 & -1 & 1 & 0 & -1\\\\0 & 1 & -1 & 1 & 0\\\\0 & 0 & 1 & -1 & 1\\\\0 & 0 & 0 & 1 & -1\\\\0 & 0 & 0 & 0 & 1\\end{matrix}\\right]$"
      ],
      "text/plain": [
       "⎡1  -1  1   0   -1⎤\n",
       "⎢                 ⎥\n",
       "⎢0  1   -1  1   0 ⎥\n",
       "⎢                 ⎥\n",
       "⎢0  0   1   -1  1 ⎥\n",
       "⎢                 ⎥\n",
       "⎢0  0   0   1   -1⎥\n",
       "⎢                 ⎥\n",
       "⎣0  0   0   0   1 ⎦"
      ]
     },
     "execution_count": 18,
     "metadata": {},
     "output_type": "execute_result"
    }
   ],
   "source": [
    "A"
   ]
  },
  {
   "cell_type": "code",
   "execution_count": 6,
   "metadata": {},
   "outputs": [
    {
     "data": {
      "text/latex": [
       "$\\displaystyle \\left( \\left[\\begin{matrix}1 & 0 & 0\\\\1 & 1 & 0\\\\1 & 2 & 1\\end{matrix}\\right], \\  \\left[\\begin{matrix}1 & 1 & 1\\\\0 & 1 & 2\\\\0 & 0 & 1\\end{matrix}\\right]\\right)$"
      ],
      "text/plain": [
       "⎛⎡1  0  0⎤  ⎡1  1  1⎤⎞\n",
       "⎜⎢       ⎥  ⎢       ⎥⎟\n",
       "⎜⎢1  1  0⎥, ⎢0  1  2⎥⎟\n",
       "⎜⎢       ⎥  ⎢       ⎥⎟\n",
       "⎝⎣1  2  1⎦  ⎣0  0  1⎦⎠"
      ]
     },
     "execution_count": 6,
     "metadata": {},
     "output_type": "execute_result"
    }
   ],
   "source": [
    "L = Matrix([[1, 0, 0], [1, 1, 0], [1, 2, 1]])\n",
    "U = Matrix([[1, 1, 1], [0, 1, 2], [0, 0, 1]])\n",
    "L, U"
   ]
  },
  {
   "cell_type": "code",
   "execution_count": 5,
   "metadata": {},
   "outputs": [
    {
     "data": {
      "text/latex": [
       "$\\displaystyle \\left( \\left[\\begin{matrix}1 & 0 & 0\\\\1 & 1 & 0\\\\1 & 2 & 1\\end{matrix}\\right], \\  \\left[\\begin{matrix}1 & 1 & 1\\\\0 & 1 & 2\\\\0 & 0 & 1\\end{matrix}\\right]\\right)$"
      ],
      "text/plain": [
       "⎛⎡1  0  0⎤  ⎡1  1  1⎤⎞\n",
       "⎜⎢       ⎥  ⎢       ⎥⎟\n",
       "⎜⎢1  1  0⎥, ⎢0  1  2⎥⎟\n",
       "⎜⎢       ⎥  ⎢       ⎥⎟\n",
       "⎝⎣1  2  1⎦  ⎣0  0  1⎦⎠"
      ]
     },
     "execution_count": 5,
     "metadata": {},
     "output_type": "execute_result"
    }
   ],
   "source": [
    "A = Matrix([[1,1,1], [1,2,3], [1,3,6]])\n",
    "L, U, _ = A.LUdecomposition()\n",
    "L, U"
   ]
  },
  {
   "cell_type": "code",
   "execution_count": 8,
   "metadata": {},
   "outputs": [
    {
     "data": {
      "text/latex": [
       "$\\displaystyle \\left( \\left[\\begin{matrix}1 & 0 & 0 & 0 & 0 & 0\\\\- \\frac{1}{2} & 1 & 0 & 0 & 0 & 0\\\\0 & - \\frac{2}{3} & 1 & 0 & 0 & 0\\\\0 & 0 & - \\frac{3}{4} & 1 & 0 & 0\\\\0 & 0 & 0 & - \\frac{4}{5} & 1 & 0\\\\0 & 0 & 0 & 0 & - \\frac{5}{6} & 1\\end{matrix}\\right], \\  \\left[\\begin{matrix}2 & -1 & 0 & 0 & 0 & 0\\\\0 & \\frac{3}{2} & -1 & 0 & 0 & 0\\\\0 & 0 & \\frac{4}{3} & -1 & 0 & 0\\\\0 & 0 & 0 & \\frac{5}{4} & -1 & 0\\\\0 & 0 & 0 & 0 & \\frac{6}{5} & -1\\\\0 & 0 & 0 & 0 & 0 & \\frac{7}{6}\\end{matrix}\\right]\\right)$"
      ],
      "text/plain": [
       "⎛⎡ 1     0     0     0     0    0⎤  ⎡2  -1    0    0    0    0 ⎤⎞\n",
       "⎜⎢                               ⎥  ⎢                          ⎥⎟\n",
       "⎜⎢-1/2   1     0     0     0    0⎥  ⎢0  3/2  -1    0    0    0 ⎥⎟\n",
       "⎜⎢                               ⎥  ⎢                          ⎥⎟\n",
       "⎜⎢ 0    -2/3   1     0     0    0⎥  ⎢0   0   4/3  -1    0    0 ⎥⎟\n",
       "⎜⎢                               ⎥, ⎢                          ⎥⎟\n",
       "⎜⎢ 0     0    -3/4   1     0    0⎥  ⎢0   0    0   5/4  -1    0 ⎥⎟\n",
       "⎜⎢                               ⎥  ⎢                          ⎥⎟\n",
       "⎜⎢ 0     0     0    -4/5   1    0⎥  ⎢0   0    0    0   6/5  -1 ⎥⎟\n",
       "⎜⎢                               ⎥  ⎢                          ⎥⎟\n",
       "⎝⎣ 0     0     0     0    -5/6  1⎦  ⎣0   0    0    0    0   7/6⎦⎠"
      ]
     },
     "execution_count": 8,
     "metadata": {},
     "output_type": "execute_result"
    }
   ],
   "source": [
    "A = Matrix([[2,-1,0,0,0,0],\n",
    "            [-1,2,-1,0,0,0],\n",
    "            [0,-1,2,-1,0,0],\n",
    "            [0,0,-1,2,-1,0],\n",
    "            [0,0,0,-1,2,-1],\n",
    "            [0,0,0,0,-1,2]])\n",
    "\n",
    "L,U,_ = A.LUdecomposition()\n",
    "L, U"
   ]
  },
  {
   "cell_type": "code",
   "execution_count": 9,
   "metadata": {},
   "outputs": [
    {
     "data": {
      "text/latex": [
       "$\\displaystyle \\left[\\begin{matrix}1 & 0 & 0 & 0 & 0 & 0\\\\\\frac{1}{2} & 1 & 0 & 0 & 0 & 0\\\\\\frac{1}{3} & \\frac{2}{3} & 1 & 0 & 0 & 0\\\\\\frac{1}{4} & \\frac{1}{2} & \\frac{3}{4} & 1 & 0 & 0\\\\\\frac{1}{5} & \\frac{2}{5} & \\frac{3}{5} & \\frac{4}{5} & 1 & 0\\\\\\frac{1}{6} & \\frac{1}{3} & \\frac{1}{2} & \\frac{2}{3} & \\frac{5}{6} & 1\\end{matrix}\\right]$"
      ],
      "text/plain": [
       "⎡ 1    0    0    0    0   0⎤\n",
       "⎢                          ⎥\n",
       "⎢1/2   1    0    0    0   0⎥\n",
       "⎢                          ⎥\n",
       "⎢1/3  2/3   1    0    0   0⎥\n",
       "⎢                          ⎥\n",
       "⎢1/4  1/2  3/4   1    0   0⎥\n",
       "⎢                          ⎥\n",
       "⎢1/5  2/5  3/5  4/5   1   0⎥\n",
       "⎢                          ⎥\n",
       "⎣1/6  1/3  1/2  2/3  5/6  1⎦"
      ]
     },
     "execution_count": 9,
     "metadata": {},
     "output_type": "execute_result"
    }
   ],
   "source": [
    "L.inv()"
   ]
  },
  {
   "cell_type": "code",
   "execution_count": 11,
   "metadata": {},
   "outputs": [
    {
     "data": {
      "text/latex": [
       "$\\displaystyle \\left[\\begin{matrix}7 & 0 & 0 & 0 & 0 & 0\\\\0 & 7 & 0 & 0 & 0 & 0\\\\0 & 0 & 7 & 0 & 0 & 0\\\\0 & 0 & 0 & 7 & 0 & 0\\\\0 & 0 & 0 & 0 & 7 & 0\\\\0 & 0 & 0 & 0 & 0 & 7\\end{matrix}\\right]$"
      ],
      "text/plain": [
       "⎡7  0  0  0  0  0⎤\n",
       "⎢                ⎥\n",
       "⎢0  7  0  0  0  0⎥\n",
       "⎢                ⎥\n",
       "⎢0  0  7  0  0  0⎥\n",
       "⎢                ⎥\n",
       "⎢0  0  0  7  0  0⎥\n",
       "⎢                ⎥\n",
       "⎢0  0  0  0  7  0⎥\n",
       "⎢                ⎥\n",
       "⎣0  0  0  0  0  7⎦"
      ]
     },
     "execution_count": 11,
     "metadata": {},
     "output_type": "execute_result"
    }
   ],
   "source": [
    "A * 7 * A.inv()"
   ]
  },
  {
   "cell_type": "code",
   "execution_count": 6,
   "metadata": {},
   "outputs": [
    {
     "data": {
      "text/latex": [
       "$\\displaystyle \\left[\\begin{matrix}3 & 16 & 22\\\\0 & 25 & 40\\\\0 & 0 & 25\\end{matrix}\\right]$"
      ],
      "text/plain": [
       "⎡3  16  22⎤\n",
       "⎢         ⎥\n",
       "⎢0  25  40⎥\n",
       "⎢         ⎥\n",
       "⎣0  0   25⎦"
      ]
     },
     "execution_count": 6,
     "metadata": {},
     "output_type": "execute_result"
    }
   ],
   "source": [
    "A = Matrix([[1,2,3], [4, 5, 0],[5,0,0]])\n",
    "B = Matrix([[0,0,5],[0, 5, 4], [1,2,3]])\n",
    "A*B"
   ]
  },
  {
   "cell_type": "code",
   "execution_count": 5,
   "metadata": {},
   "outputs": [
    {
     "data": {
      "text/latex": [
       "$\\displaystyle \\left[\\begin{matrix}0 & 0\\\\0 & 0\\end{matrix}\\right]$"
      ],
      "text/plain": [
       "⎡0  0⎤\n",
       "⎢    ⎥\n",
       "⎣0  0⎦"
      ]
     },
     "execution_count": 5,
     "metadata": {},
     "output_type": "execute_result"
    }
   ],
   "source": [
    "A = Matrix([[0, 0], [0, 0]])\n",
    "B = Matrix([[1,1], [1, 1]])\n",
    "A * B"
   ]
  },
  {
   "cell_type": "code",
   "execution_count": 6,
   "metadata": {},
   "outputs": [
    {
     "data": {
      "image/png": "[encoded data removed]",
      "text/latex": [
       "$\\displaystyle 0$"
      ],
      "text/plain": [
       "0"
      ]
     },
     "execution_count": 6,
     "metadata": {},
     "output_type": "execute_result"
    }
   ],
   "source": [
    "(A * B).rank()"
   ]
  },
  {
   "cell_type": "code",
   "execution_count": 4,
   "metadata": {},
   "outputs": [
    {
     "data": {
      "image/png": "[encoded data removed]",
      "text/latex": [
       "$\\displaystyle \\left( \\left[ \\left[ 1, \\  0, \\  1, \\  0, \\  1, \\  0, \\  1, \\  0\\right]\\right], \\  \\left[ \\left[ 0, \\  1, \\  0, \\  1, \\  0, \\  1, \\  0, \\  1\\right], \\  \\left[ 0, \\  1, \\  0, \\  1, \\  0, \\  1, \\  0, \\  1\\right], \\  \\left[ 0, \\  1, \\  0, \\  1, \\  0, \\  1, \\  0, \\  1\\right], \\  \\left[ 0, \\  1, \\  0, \\  1, \\  0, \\  1, \\  0, \\  1\\right]\\right]\\right)$"
      ],
      "text/plain": [
       "([[1, 0, 1, 0, 1, 0, 1, 0]], [[0, 1, 0, 1, 0, 1, 0, 1], [0, 1, 0, 1, 0, 1, 0,  ↪\n",
       "\n",
       "↪ 1], [0, 1, 0, 1, 0, 1, 0, 1], [0, 1, 0, 1, 0, 1, 0, 1]])"
      ]
     },
     "execution_count": 4,
     "metadata": {},
     "output_type": "execute_result"
    }
   ],
   "source": [
    "[[1,0]*4],[[0,1]*4]*4"
   ]
  },
  {
   "cell_type": "code",
   "execution_count": 10,
   "metadata": {},
   "outputs": [
    {
     "data": {
      "image/png": "[encoded data removed]",
      "text/latex": [
       "$\\displaystyle 2$"
      ],
      "text/plain": [
       "2"
      ]
     },
     "execution_count": 10,
     "metadata": {},
     "output_type": "execute_result"
    }
   ],
   "source": [
    "A = Matrix([[1,0]*4,[0,1]*4]*4)\n",
    "A.rank()\n"
   ]
  },
  {
   "cell_type": "code",
   "execution_count": 12,
   "metadata": {},
   "outputs": [
    {
     "data": {
      "image/png": "[encoded data removed]",
      "text/latex": [
       "$\\displaystyle 2$"
      ],
      "text/plain": [
       "2"
      ]
     },
     "execution_count": 12,
     "metadata": {},
     "output_type": "execute_result"
    }
   ],
   "source": [
    "r, n, b, q, k, p = symbols('r, n, b, q, k, p')\n",
    "B = Matrix([[r,n,b,q,k,b,n,r],[p,p,p,p,p,p,p,p],[0,0,0,0,0,0,0,0],[0,0,0,0,0,0,0,0],[0,0,0,0,0,0,0,0],[0,0,0,0,0,0,0,0],[p,p,p,p,p,p,p,p], [r,n,b,q,k,b,n,r]])\n",
    "B.rank()"
   ]
  },
  {
   "cell_type": "code",
   "execution_count": 16,
   "metadata": {},
   "outputs": [
    {
     "data": {
      "text/latex": [
       "$\\displaystyle \\left[\\begin{matrix}1 & 0 & 1 & 0 & 1 & 0 & 1 & 0\\\\0 & 1 & 0 & 1 & 0 & 1 & 0 & 1\\\\1 & 0 & 1 & 0 & 1 & 0 & 1 & 0\\\\0 & 1 & 0 & 1 & 0 & 1 & 0 & 1\\\\1 & 0 & 1 & 0 & 1 & 0 & 1 & 0\\\\0 & 1 & 0 & 1 & 0 & 1 & 0 & 1\\\\1 & 0 & 1 & 0 & 1 & 0 & 1 & 0\\\\0 & 1 & 0 & 1 & 0 & 1 & 0 & 1\\end{matrix}\\right]$"
      ],
      "text/plain": [
       "⎡1  0  1  0  1  0  1  0⎤\n",
       "⎢                      ⎥\n",
       "⎢0  1  0  1  0  1  0  1⎥\n",
       "⎢                      ⎥\n",
       "⎢1  0  1  0  1  0  1  0⎥\n",
       "⎢                      ⎥\n",
       "⎢0  1  0  1  0  1  0  1⎥\n",
       "⎢                      ⎥\n",
       "⎢1  0  1  0  1  0  1  0⎥\n",
       "⎢                      ⎥\n",
       "⎢0  1  0  1  0  1  0  1⎥\n",
       "⎢                      ⎥\n",
       "⎢1  0  1  0  1  0  1  0⎥\n",
       "⎢                      ⎥\n",
       "⎣0  1  0  1  0  1  0  1⎦"
      ]
     },
     "execution_count": 16,
     "metadata": {},
     "output_type": "execute_result"
    }
   ],
   "source": [
    "A.T"
   ]
  },
  {
   "cell_type": "code",
   "execution_count": 21,
   "metadata": {},
   "outputs": [
    {
     "data": {
      "text/latex": [
       "$\\displaystyle \\left[ \\left[\\begin{matrix}- \\frac{b - n}{- n + r}\\\\- \\frac{- b + r}{- n + r}\\\\1\\\\0\\\\0\\\\0\\\\0\\\\0\\end{matrix}\\right], \\  \\left[\\begin{matrix}- \\frac{- n + q}{- n + r}\\\\- \\frac{- q + r}{- n + r}\\\\0\\\\1\\\\0\\\\0\\\\0\\\\0\\end{matrix}\\right], \\  \\left[\\begin{matrix}- \\frac{k - n}{- n + r}\\\\- \\frac{- k + r}{- n + r}\\\\0\\\\0\\\\1\\\\0\\\\0\\\\0\\end{matrix}\\right], \\  \\left[\\begin{matrix}- \\frac{b - n}{- n + r}\\\\- \\frac{- b + r}{- n + r}\\\\0\\\\0\\\\0\\\\1\\\\0\\\\0\\end{matrix}\\right], \\  \\left[\\begin{matrix}0\\\\-1\\\\0\\\\0\\\\0\\\\0\\\\1\\\\0\\end{matrix}\\right], \\  \\left[\\begin{matrix}-1\\\\0\\\\0\\\\0\\\\0\\\\0\\\\0\\\\1\\end{matrix}\\right]\\right]$"
      ],
      "text/plain": [
       "⎡⎡-(b - n)  ⎤  ⎡-(-n + q) ⎤  ⎡-(k - n)  ⎤  ⎡-(b - n)  ⎤            ⎤\n",
       "⎢⎢───────── ⎥  ⎢──────────⎥  ⎢───────── ⎥  ⎢───────── ⎥            ⎥\n",
       "⎢⎢ -n + r   ⎥  ⎢  -n + r  ⎥  ⎢ -n + r   ⎥  ⎢ -n + r   ⎥  ⎡0 ⎤  ⎡-1⎤⎥\n",
       "⎢⎢          ⎥  ⎢          ⎥  ⎢          ⎥  ⎢          ⎥  ⎢  ⎥  ⎢  ⎥⎥\n",
       "⎢⎢-(-b + r) ⎥  ⎢-(-q + r) ⎥  ⎢-(-k + r) ⎥  ⎢-(-b + r) ⎥  ⎢-1⎥  ⎢0 ⎥⎥\n",
       "⎢⎢──────────⎥  ⎢──────────⎥  ⎢──────────⎥  ⎢──────────⎥  ⎢  ⎥  ⎢  ⎥⎥\n",
       "⎢⎢  -n + r  ⎥  ⎢  -n + r  ⎥  ⎢  -n + r  ⎥  ⎢  -n + r  ⎥  ⎢0 ⎥  ⎢0 ⎥⎥\n",
       "⎢⎢          ⎥  ⎢          ⎥  ⎢          ⎥  ⎢          ⎥  ⎢  ⎥  ⎢  ⎥⎥\n",
       "⎢⎢    1     ⎥  ⎢    0     ⎥  ⎢    0     ⎥  ⎢    0     ⎥  ⎢0 ⎥  ⎢0 ⎥⎥\n",
       "⎢⎢          ⎥, ⎢          ⎥, ⎢          ⎥, ⎢          ⎥, ⎢  ⎥, ⎢  ⎥⎥\n",
       "⎢⎢    0     ⎥  ⎢    1     ⎥  ⎢    0     ⎥  ⎢    0     ⎥  ⎢0 ⎥  ⎢0 ⎥⎥\n",
       "⎢⎢          ⎥  ⎢          ⎥  ⎢          ⎥  ⎢          ⎥  ⎢  ⎥  ⎢  ⎥⎥\n",
       "⎢⎢    0     ⎥  ⎢    0     ⎥  ⎢    1     ⎥  ⎢    0     ⎥  ⎢0 ⎥  ⎢0 ⎥⎥\n",
       "⎢⎢          ⎥  ⎢          ⎥  ⎢          ⎥  ⎢          ⎥  ⎢  ⎥  ⎢  ⎥⎥\n",
       "⎢⎢    0     ⎥  ⎢    0     ⎥  ⎢    0     ⎥  ⎢    1     ⎥  ⎢1 ⎥  ⎢0 ⎥⎥\n",
       "⎢⎢          ⎥  ⎢          ⎥  ⎢          ⎥  ⎢          ⎥  ⎢  ⎥  ⎢  ⎥⎥\n",
       "⎢⎢    0     ⎥  ⎢    0     ⎥  ⎢    0     ⎥  ⎢    0     ⎥  ⎣0 ⎦  ⎣1 ⎦⎥\n",
       "⎢⎢          ⎥  ⎢          ⎥  ⎢          ⎥  ⎢          ⎥            ⎥\n",
       "⎣⎣    0     ⎦  ⎣    0     ⎦  ⎣    0     ⎦  ⎣    0     ⎦            ⎦"
      ]
     },
     "execution_count": 21,
     "metadata": {},
     "output_type": "execute_result"
    }
   ],
   "source": [
    "B.nullspace()"
   ]
  },
  {
   "cell_type": "code",
   "execution_count": 46,
   "metadata": {},
   "outputs": [
    {
     "data": {
      "text/latex": [
       "$\\displaystyle \\left[\\begin{matrix}1 & 0 & -1\\\\0 & 1 & 0\\\\0 & 0 & 1\\end{matrix}\\right]$"
      ],
      "text/plain": [
       "⎡1  0  -1⎤\n",
       "⎢        ⎥\n",
       "⎢0  1  0 ⎥\n",
       "⎢        ⎥\n",
       "⎣0  0  1 ⎦"
      ]
     },
     "execution_count": 46,
     "metadata": {},
     "output_type": "execute_result"
    }
   ],
   "source": [
    "A = Matrix([[1,0,0], [-1, 1, 0], [0, -1, 1]])\n",
    "A = Matrix([[1,0,-1], [0, 1, 0], [0, 0, 1]])\n",
    "A"
   ]
  },
  {
   "cell_type": "code",
   "execution_count": 54,
   "metadata": {},
   "outputs": [
    {
     "data": {
      "text/latex": [
       "$\\displaystyle \\left[\\begin{matrix}10 & 0 & 0\\\\0 & 1 & 0\\\\0 & 0 & 0\\end{matrix}\\right]$"
      ],
      "text/plain": [
       "⎡10  0  0⎤\n",
       "⎢        ⎥\n",
       "⎢0   1  0⎥\n",
       "⎢        ⎥\n",
       "⎣0   0  0⎦"
      ]
     },
     "execution_count": 54,
     "metadata": {},
     "output_type": "execute_result"
    }
   ],
   "source": [
    "B = Matrix([[10,0,0], [0,1,0], [0,0,0]])\n",
    "B\n"
   ]
  },
  {
   "cell_type": "code",
   "execution_count": 55,
   "metadata": {},
   "outputs": [
    {
     "data": {
      "text/latex": [
       "$\\displaystyle \\left[\\begin{matrix}10 & 0 & 0\\\\0 & 1 & 0\\\\0 & 0 & 0\\end{matrix}\\right]$"
      ],
      "text/plain": [
       "⎡10  0  0⎤\n",
       "⎢        ⎥\n",
       "⎢0   1  0⎥\n",
       "⎢        ⎥\n",
       "⎣0   0  0⎦"
      ]
     },
     "execution_count": 55,
     "metadata": {},
     "output_type": "execute_result"
    }
   ],
   "source": [
    "A*B"
   ]
  }
 ],
 "metadata": {
  "kernelspec": {
   "display_name": "la",
   "language": "python",
   "name": "python3"
  },
  "language_info": {
   "codemirror_mode": {
    "name": "ipython",
    "version": 3
   },
   "file_extension": ".py",
   "mimetype": "text/x-python",
   "name": "python",
   "nbconvert_exporter": "python",
   "pygments_lexer": "ipython3",
   "version": "3.12.6"
  }
 },
 "nbformat": 4,
 "nbformat_minor": 2
}
