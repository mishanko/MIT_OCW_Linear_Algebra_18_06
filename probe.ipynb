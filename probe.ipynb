{
 "cells": [
  {
   "cell_type": "code",
   "execution_count": 1,
   "metadata": {},
   "outputs": [],
   "source": [
    "from sympy import init_printing, Matrix, symbols, eye, Rational\n",
    "init_printing()"
   ]
  },
  {
   "cell_type": "code",
   "execution_count": 3,
   "metadata": {},
   "outputs": [
    {
     "data": {
      "text/latex": [
       "$\\displaystyle \\left( \\left[\\begin{matrix}1 & 0 & 0 & 0\\\\0 & 1 & 0 & 0\\\\0 & 0 & 1 & 0\\\\0 & 0 & 0 & 1\\end{matrix}\\right], \\  \\left( 0, \\  1, \\  2, \\  3\\right)\\right)$"
      ],
      "text/plain": [
       "⎛⎡1  0  0  0⎤              ⎞\n",
       "⎜⎢          ⎥              ⎟\n",
       "⎜⎢0  1  0  0⎥              ⎟\n",
       "⎜⎢          ⎥, (0, 1, 2, 3)⎟\n",
       "⎜⎢0  0  1  0⎥              ⎟\n",
       "⎜⎢          ⎥              ⎟\n",
       "⎝⎣0  0  0  1⎦              ⎠"
      ]
     },
     "execution_count": 3,
     "metadata": {},
     "output_type": "execute_result"
    }
   ],
   "source": [
    "A = Matrix([[1,1,1,1], [-1,-2,0,1],[-1,-1,1,-1], [2,2,0,1]])\n",
    "A.rref()"
   ]
  },
  {
   "cell_type": "code",
   "execution_count": 11,
   "metadata": {},
   "outputs": [
    {
     "data": {
      "image/png": "[encoded data removed]",
      "text/latex": [
       "$\\displaystyle 2$"
      ],
      "text/plain": [
       "2"
      ]
     },
     "execution_count": 11,
     "metadata": {},
     "output_type": "execute_result"
    }
   ],
   "source": [
    "A = Matrix([[2,0],[1,1],[1,2]])\n",
    "(A.T*A).rank()"
   ]
  },
  {
   "cell_type": "code",
   "execution_count": 22,
   "metadata": {},
   "outputs": [
    {
     "data": {
      "text/latex": [
       "$\\displaystyle \\left[\\begin{matrix}1 & a & a b & a b c\\\\0 & 1 & b & b c\\\\0 & 0 & 1 & c\\\\0 & 0 & 0 & 1\\end{matrix}\\right]$"
      ],
      "text/plain": [
       "⎡1  a  a⋅b  a⋅b⋅c⎤\n",
       "⎢                ⎥\n",
       "⎢0  1   b    b⋅c ⎥\n",
       "⎢                ⎥\n",
       "⎢0  0   1     c  ⎥\n",
       "⎢                ⎥\n",
       "⎣0  0   0     1  ⎦"
      ]
     },
     "execution_count": 22,
     "metadata": {},
     "output_type": "execute_result"
    }
   ],
   "source": [
    "a, b, c = symbols('a b c')\n",
    "A = Matrix([[1, -a, 0, 0], [0, 1, -b, 0], [0, 0, 1, -c], [0, 0, 0, 1]])\n",
    "A.inv()"
   ]
  },
  {
   "cell_type": "code",
   "execution_count": 20,
   "metadata": {},
   "outputs": [
    {
     "data": {
      "text/latex": [
       "$\\displaystyle \\left[\\begin{matrix}1.0 & 0.5 & 0.333333333333333 & 0.25 & 0.2 & 0.166666666666667\\\\0.5 & 0.333333333333333 & 0.25 & 0.2 & 0.166666666666667 & 0.142857142857143\\\\0.333333333333333 & 0.25 & 0.2 & 0.166666666666667 & 0.142857142857143 & 0.125\\\\0.25 & 0.2 & 0.166666666666667 & 0.142857142857143 & 0.125 & 0.111111111111111\\\\0.2 & 0.166666666666667 & 0.142857142857143 & 0.125 & 0.111111111111111 & 0.1\\\\0.166666666666667 & 0.142857142857143 & 0.125 & 0.111111111111111 & 0.1 & 0.0909090909090909\\end{matrix}\\right]$"
      ],
      "text/plain": [
       "⎡       1.0                0.5         0.333333333333333        0.25           ↪\n",
       "⎢                                                                              ↪\n",
       "⎢       0.5         0.333333333333333        0.25                0.2         0 ↪\n",
       "⎢                                                                              ↪\n",
       "⎢0.333333333333333        0.25                0.2         0.166666666666667  0 ↪\n",
       "⎢                                                                              ↪\n",
       "⎢      0.25                0.2         0.166666666666667  0.142857142857143    ↪\n",
       "⎢                                                                              ↪\n",
       "⎢       0.2         0.166666666666667  0.142857142857143        0.125        0 ↪\n",
       "⎢                                                                              ↪\n",
       "⎣0.166666666666667  0.142857142857143        0.125        0.111111111111111    ↪\n",
       "\n",
       "↪       0.2         0.166666666666667 ⎤\n",
       "↪                                     ⎥\n",
       "↪ .166666666666667  0.142857142857143 ⎥\n",
       "↪                                     ⎥\n",
       "↪ .142857142857143        0.125       ⎥\n",
       "↪                                     ⎥\n",
       "↪      0.125        0.111111111111111 ⎥\n",
       "↪                                     ⎥\n",
       "↪ .111111111111111         0.1        ⎥\n",
       "↪                                     ⎥\n",
       "↪       0.1         0.0909090909090909⎦"
      ]
     },
     "execution_count": 20,
     "metadata": {},
     "output_type": "execute_result"
    }
   ],
   "source": [
    "H = Matrix([[1/(i+j-1) for j in range(1, 7)] for i in range(1, 7)])\n",
    "H"
   ]
  },
  {
   "cell_type": "code",
   "execution_count": 21,
   "metadata": {},
   "outputs": [
    {
     "data": {
      "text/latex": [
       "$\\displaystyle \\left[\\begin{matrix}36.0000000013562 & -630.000000040176 & 3360.00000027771 & -7560.00000073264 & 7560.00000081682 & -2772.00000032427\\\\-630.00000003998 & 14700.000001183 & -88200.0000081722 & 211680.000021549 & -220500.000024018 & 83160.0000095327\\\\3360.00000027568 & -88200.0000081517 & 564480.000056287 & -1411200.00014838 & 1512000.00016535 & -582120.000065617\\\\-7560.0000007261 & 211680.00002146 & -1411200.00014814 & 3628800.00039045 & -3969000.00043504 & 1552320.00017262\\\\7560.00000080865 & -220500.000023891 & 1512000.00016489 & -3969000.00043453 & 4410000.00048411 & -1746360.00019208\\\\-2772.00000032077 & 83160.0000094744 & -582120.000065378 & 1552320.00017228 & -1746360.00019192 & 698544.000076145\\end{matrix}\\right]$"
      ],
      "text/plain": [
       "⎡36.0000000013562   -630.000000040176  3360.00000027771   -7560.00000073264  7 ↪\n",
       "⎢                                                                              ↪\n",
       "⎢-630.00000003998    14700.000001183   -88200.0000081722  211680.000021549   - ↪\n",
       "⎢                                                                              ↪\n",
       "⎢3360.00000027568   -88200.0000081517  564480.000056287   -1411200.00014838  1 ↪\n",
       "⎢                                                                              ↪\n",
       "⎢-7560.0000007261    211680.00002146   -1411200.00014814  3628800.00039045   - ↪\n",
       "⎢                                                                              ↪\n",
       "⎢7560.00000080865   -220500.000023891  1512000.00016489   -3969000.00043453  4 ↪\n",
       "⎢                                                                              ↪\n",
       "⎣-2772.00000032077  83160.0000094744   -582120.000065378  1552320.00017228   - ↪\n",
       "\n",
       "↪ 560.00000081682   -2772.00000032427⎤\n",
       "↪                                    ⎥\n",
       "↪ 220500.000024018  83160.0000095327 ⎥\n",
       "↪                                    ⎥\n",
       "↪ 512000.00016535   -582120.000065617⎥\n",
       "↪                                    ⎥\n",
       "↪ 3969000.00043504  1552320.00017262 ⎥\n",
       "↪                                    ⎥\n",
       "↪ 410000.00048411   -1746360.00019208⎥\n",
       "↪                                    ⎥\n",
       "↪ 1746360.00019192  698544.000076145 ⎦"
      ]
     },
     "execution_count": 21,
     "metadata": {},
     "output_type": "execute_result"
    }
   ],
   "source": [
    "H.inv()"
   ]
  },
  {
   "cell_type": "code",
   "execution_count": 18,
   "metadata": {},
   "outputs": [
    {
     "data": {
      "text/latex": [
       "$\\displaystyle \\left[\\begin{matrix}1 & -1 & 1 & 0 & -1\\\\0 & 1 & -1 & 1 & 0\\\\0 & 0 & 1 & -1 & 1\\\\0 & 0 & 0 & 1 & -1\\\\0 & 0 & 0 & 0 & 1\\end{matrix}\\right]$"
      ],
      "text/plain": [
       "⎡1  -1  1   0   -1⎤\n",
       "⎢                 ⎥\n",
       "⎢0  1   -1  1   0 ⎥\n",
       "⎢                 ⎥\n",
       "⎢0  0   1   -1  1 ⎥\n",
       "⎢                 ⎥\n",
       "⎢0  0   0   1   -1⎥\n",
       "⎢                 ⎥\n",
       "⎣0  0   0   0   1 ⎦"
      ]
     },
     "execution_count": 18,
     "metadata": {},
     "output_type": "execute_result"
    }
   ],
   "source": [
    "A"
   ]
  },
  {
   "cell_type": "code",
   "execution_count": 6,
   "metadata": {},
   "outputs": [
    {
     "data": {
      "text/latex": [
       "$\\displaystyle \\left( \\left[\\begin{matrix}1 & 0 & 0\\\\1 & 1 & 0\\\\1 & 2 & 1\\end{matrix}\\right], \\  \\left[\\begin{matrix}1 & 1 & 1\\\\0 & 1 & 2\\\\0 & 0 & 1\\end{matrix}\\right]\\right)$"
      ],
      "text/plain": [
       "⎛⎡1  0  0⎤  ⎡1  1  1⎤⎞\n",
       "⎜⎢       ⎥  ⎢       ⎥⎟\n",
       "⎜⎢1  1  0⎥, ⎢0  1  2⎥⎟\n",
       "⎜⎢       ⎥  ⎢       ⎥⎟\n",
       "⎝⎣1  2  1⎦  ⎣0  0  1⎦⎠"
      ]
     },
     "execution_count": 6,
     "metadata": {},
     "output_type": "execute_result"
    }
   ],
   "source": [
    "L = Matrix([[1, 0, 0], [1, 1, 0], [1, 2, 1]])\n",
    "U = Matrix([[1, 1, 1], [0, 1, 2], [0, 0, 1]])\n",
    "L, U"
   ]
  },
  {
   "cell_type": "code",
   "execution_count": 5,
   "metadata": {},
   "outputs": [
    {
     "data": {
      "text/latex": [
       "$\\displaystyle \\left( \\left[\\begin{matrix}1 & 0 & 0\\\\1 & 1 & 0\\\\1 & 2 & 1\\end{matrix}\\right], \\  \\left[\\begin{matrix}1 & 1 & 1\\\\0 & 1 & 2\\\\0 & 0 & 1\\end{matrix}\\right]\\right)$"
      ],
      "text/plain": [
       "⎛⎡1  0  0⎤  ⎡1  1  1⎤⎞\n",
       "⎜⎢       ⎥  ⎢       ⎥⎟\n",
       "⎜⎢1  1  0⎥, ⎢0  1  2⎥⎟\n",
       "⎜⎢       ⎥  ⎢       ⎥⎟\n",
       "⎝⎣1  2  1⎦  ⎣0  0  1⎦⎠"
      ]
     },
     "execution_count": 5,
     "metadata": {},
     "output_type": "execute_result"
    }
   ],
   "source": [
    "A = Matrix([[1,1,1], [1,2,3], [1,3,6]])\n",
    "L, U, _ = A.LUdecomposition()\n",
    "L, U"
   ]
  },
  {
   "cell_type": "code",
   "execution_count": 8,
   "metadata": {},
   "outputs": [
    {
     "data": {
      "text/latex": [
       "$\\displaystyle \\left( \\left[\\begin{matrix}1 & 0 & 0 & 0 & 0 & 0\\\\- \\frac{1}{2} & 1 & 0 & 0 & 0 & 0\\\\0 & - \\frac{2}{3} & 1 & 0 & 0 & 0\\\\0 & 0 & - \\frac{3}{4} & 1 & 0 & 0\\\\0 & 0 & 0 & - \\frac{4}{5} & 1 & 0\\\\0 & 0 & 0 & 0 & - \\frac{5}{6} & 1\\end{matrix}\\right], \\  \\left[\\begin{matrix}2 & -1 & 0 & 0 & 0 & 0\\\\0 & \\frac{3}{2} & -1 & 0 & 0 & 0\\\\0 & 0 & \\frac{4}{3} & -1 & 0 & 0\\\\0 & 0 & 0 & \\frac{5}{4} & -1 & 0\\\\0 & 0 & 0 & 0 & \\frac{6}{5} & -1\\\\0 & 0 & 0 & 0 & 0 & \\frac{7}{6}\\end{matrix}\\right]\\right)$"
      ],
      "text/plain": [
       "⎛⎡ 1     0     0     0     0    0⎤  ⎡2  -1    0    0    0    0 ⎤⎞\n",
       "⎜⎢                               ⎥  ⎢                          ⎥⎟\n",
       "⎜⎢-1/2   1     0     0     0    0⎥  ⎢0  3/2  -1    0    0    0 ⎥⎟\n",
       "⎜⎢                               ⎥  ⎢                          ⎥⎟\n",
       "⎜⎢ 0    -2/3   1     0     0    0⎥  ⎢0   0   4/3  -1    0    0 ⎥⎟\n",
       "⎜⎢                               ⎥, ⎢                          ⎥⎟\n",
       "⎜⎢ 0     0    -3/4   1     0    0⎥  ⎢0   0    0   5/4  -1    0 ⎥⎟\n",
       "⎜⎢                               ⎥  ⎢                          ⎥⎟\n",
       "⎜⎢ 0     0     0    -4/5   1    0⎥  ⎢0   0    0    0   6/5  -1 ⎥⎟\n",
       "⎜⎢                               ⎥  ⎢                          ⎥⎟\n",
       "⎝⎣ 0     0     0     0    -5/6  1⎦  ⎣0   0    0    0    0   7/6⎦⎠"
      ]
     },
     "execution_count": 8,
     "metadata": {},
     "output_type": "execute_result"
    }
   ],
   "source": [
    "A = Matrix([[2,-1,0,0,0,0],\n",
    "            [-1,2,-1,0,0,0],\n",
    "            [0,-1,2,-1,0,0],\n",
    "            [0,0,-1,2,-1,0],\n",
    "            [0,0,0,-1,2,-1],\n",
    "            [0,0,0,0,-1,2]])\n",
    "\n",
    "L,U,_ = A.LUdecomposition()\n",
    "L, U"
   ]
  },
  {
   "cell_type": "code",
   "execution_count": 9,
   "metadata": {},
   "outputs": [
    {
     "data": {
      "text/latex": [
       "$\\displaystyle \\left[\\begin{matrix}1 & 0 & 0 & 0 & 0 & 0\\\\\\frac{1}{2} & 1 & 0 & 0 & 0 & 0\\\\\\frac{1}{3} & \\frac{2}{3} & 1 & 0 & 0 & 0\\\\\\frac{1}{4} & \\frac{1}{2} & \\frac{3}{4} & 1 & 0 & 0\\\\\\frac{1}{5} & \\frac{2}{5} & \\frac{3}{5} & \\frac{4}{5} & 1 & 0\\\\\\frac{1}{6} & \\frac{1}{3} & \\frac{1}{2} & \\frac{2}{3} & \\frac{5}{6} & 1\\end{matrix}\\right]$"
      ],
      "text/plain": [
       "⎡ 1    0    0    0    0   0⎤\n",
       "⎢                          ⎥\n",
       "⎢1/2   1    0    0    0   0⎥\n",
       "⎢                          ⎥\n",
       "⎢1/3  2/3   1    0    0   0⎥\n",
       "⎢                          ⎥\n",
       "⎢1/4  1/2  3/4   1    0   0⎥\n",
       "⎢                          ⎥\n",
       "⎢1/5  2/5  3/5  4/5   1   0⎥\n",
       "⎢                          ⎥\n",
       "⎣1/6  1/3  1/2  2/3  5/6  1⎦"
      ]
     },
     "execution_count": 9,
     "metadata": {},
     "output_type": "execute_result"
    }
   ],
   "source": [
    "L.inv()"
   ]
  },
  {
   "cell_type": "code",
   "execution_count": 11,
   "metadata": {},
   "outputs": [
    {
     "data": {
      "text/latex": [
       "$\\displaystyle \\left[\\begin{matrix}7 & 0 & 0 & 0 & 0 & 0\\\\0 & 7 & 0 & 0 & 0 & 0\\\\0 & 0 & 7 & 0 & 0 & 0\\\\0 & 0 & 0 & 7 & 0 & 0\\\\0 & 0 & 0 & 0 & 7 & 0\\\\0 & 0 & 0 & 0 & 0 & 7\\end{matrix}\\right]$"
      ],
      "text/plain": [
       "⎡7  0  0  0  0  0⎤\n",
       "⎢                ⎥\n",
       "⎢0  7  0  0  0  0⎥\n",
       "⎢                ⎥\n",
       "⎢0  0  7  0  0  0⎥\n",
       "⎢                ⎥\n",
       "⎢0  0  0  7  0  0⎥\n",
       "⎢                ⎥\n",
       "⎢0  0  0  0  7  0⎥\n",
       "⎢                ⎥\n",
       "⎣0  0  0  0  0  7⎦"
      ]
     },
     "execution_count": 11,
     "metadata": {},
     "output_type": "execute_result"
    }
   ],
   "source": [
    "A * 7 * A.inv()"
   ]
  },
  {
   "cell_type": "code",
   "execution_count": 6,
   "metadata": {},
   "outputs": [
    {
     "data": {
      "text/latex": [
       "$\\displaystyle \\left[\\begin{matrix}3 & 16 & 22\\\\0 & 25 & 40\\\\0 & 0 & 25\\end{matrix}\\right]$"
      ],
      "text/plain": [
       "⎡3  16  22⎤\n",
       "⎢         ⎥\n",
       "⎢0  25  40⎥\n",
       "⎢         ⎥\n",
       "⎣0  0   25⎦"
      ]
     },
     "execution_count": 6,
     "metadata": {},
     "output_type": "execute_result"
    }
   ],
   "source": [
    "A = Matrix([[1,2,3], [4, 5, 0],[5,0,0]])\n",
    "B = Matrix([[0,0,5],[0, 5, 4], [1,2,3]])\n",
    "A*B"
   ]
  },
  {
   "cell_type": "code",
   "execution_count": 5,
   "metadata": {},
   "outputs": [
    {
     "data": {
      "text/latex": [
       "$\\displaystyle \\left[\\begin{matrix}0 & 0\\\\0 & 0\\end{matrix}\\right]$"
      ],
      "text/plain": [
       "⎡0  0⎤\n",
       "⎢    ⎥\n",
       "⎣0  0⎦"
      ]
     },
     "execution_count": 5,
     "metadata": {},
     "output_type": "execute_result"
    }
   ],
   "source": [
    "A = Matrix([[0, 0], [0, 0]])\n",
    "B = Matrix([[1,1], [1, 1]])\n",
    "A * B"
   ]
  },
  {
   "cell_type": "code",
   "execution_count": 6,
   "metadata": {},
   "outputs": [
    {
     "data": {
      "image/png": "[encoded data removed]",
      "text/latex": [
       "$\\displaystyle 0$"
      ],
      "text/plain": [
       "0"
      ]
     },
     "execution_count": 6,
     "metadata": {},
     "output_type": "execute_result"
    }
   ],
   "source": [
    "(A * B).rank()"
   ]
  },
  {
   "cell_type": "code",
   "execution_count": 4,
   "metadata": {},
   "outputs": [
    {
     "data": {
      "image/png": "[encoded data removed]",
      "text/latex": [
       "$\\displaystyle \\left( \\left[ \\left[ 1, \\  0, \\  1, \\  0, \\  1, \\  0, \\  1, \\  0\\right]\\right], \\  \\left[ \\left[ 0, \\  1, \\  0, \\  1, \\  0, \\  1, \\  0, \\  1\\right], \\  \\left[ 0, \\  1, \\  0, \\  1, \\  0, \\  1, \\  0, \\  1\\right], \\  \\left[ 0, \\  1, \\  0, \\  1, \\  0, \\  1, \\  0, \\  1\\right], \\  \\left[ 0, \\  1, \\  0, \\  1, \\  0, \\  1, \\  0, \\  1\\right]\\right]\\right)$"
      ],
      "text/plain": [
       "([[1, 0, 1, 0, 1, 0, 1, 0]], [[0, 1, 0, 1, 0, 1, 0, 1], [0, 1, 0, 1, 0, 1, 0,  ↪\n",
       "\n",
       "↪ 1], [0, 1, 0, 1, 0, 1, 0, 1], [0, 1, 0, 1, 0, 1, 0, 1]])"
      ]
     },
     "execution_count": 4,
     "metadata": {},
     "output_type": "execute_result"
    }
   ],
   "source": [
    "[[1,0]*4],[[0,1]*4]*4"
   ]
  },
  {
   "cell_type": "code",
   "execution_count": 10,
   "metadata": {},
   "outputs": [
    {
     "data": {
      "image/png": "[encoded data removed]",
      "text/latex": [
       "$\\displaystyle 2$"
      ],
      "text/plain": [
       "2"
      ]
     },
     "execution_count": 10,
     "metadata": {},
     "output_type": "execute_result"
    }
   ],
   "source": [
    "A = Matrix([[1,0]*4,[0,1]*4]*4)\n",
    "A.rank()\n"
   ]
  },
  {
   "cell_type": "code",
   "execution_count": 12,
   "metadata": {},
   "outputs": [
    {
     "data": {
      "image/png": "[encoded data removed]",
      "text/latex": [
       "$\\displaystyle 2$"
      ],
      "text/plain": [
       "2"
      ]
     },
     "execution_count": 12,
     "metadata": {},
     "output_type": "execute_result"
    }
   ],
   "source": [
    "r, n, b, q, k, p = symbols('r, n, b, q, k, p')\n",
    "B = Matrix([[r,n,b,q,k,b,n,r],[p,p,p,p,p,p,p,p],[0,0,0,0,0,0,0,0],[0,0,0,0,0,0,0,0],[0,0,0,0,0,0,0,0],[0,0,0,0,0,0,0,0],[p,p,p,p,p,p,p,p], [r,n,b,q,k,b,n,r]])\n",
    "B.rank()"
   ]
  },
  {
   "cell_type": "code",
   "execution_count": 16,
   "metadata": {},
   "outputs": [
    {
     "data": {
      "text/latex": [
       "$\\displaystyle \\left[\\begin{matrix}1 & 0 & 1 & 0 & 1 & 0 & 1 & 0\\\\0 & 1 & 0 & 1 & 0 & 1 & 0 & 1\\\\1 & 0 & 1 & 0 & 1 & 0 & 1 & 0\\\\0 & 1 & 0 & 1 & 0 & 1 & 0 & 1\\\\1 & 0 & 1 & 0 & 1 & 0 & 1 & 0\\\\0 & 1 & 0 & 1 & 0 & 1 & 0 & 1\\\\1 & 0 & 1 & 0 & 1 & 0 & 1 & 0\\\\0 & 1 & 0 & 1 & 0 & 1 & 0 & 1\\end{matrix}\\right]$"
      ],
      "text/plain": [
       "⎡1  0  1  0  1  0  1  0⎤\n",
       "⎢                      ⎥\n",
       "⎢0  1  0  1  0  1  0  1⎥\n",
       "⎢                      ⎥\n",
       "⎢1  0  1  0  1  0  1  0⎥\n",
       "⎢                      ⎥\n",
       "⎢0  1  0  1  0  1  0  1⎥\n",
       "⎢                      ⎥\n",
       "⎢1  0  1  0  1  0  1  0⎥\n",
       "⎢                      ⎥\n",
       "⎢0  1  0  1  0  1  0  1⎥\n",
       "⎢                      ⎥\n",
       "⎢1  0  1  0  1  0  1  0⎥\n",
       "⎢                      ⎥\n",
       "⎣0  1  0  1  0  1  0  1⎦"
      ]
     },
     "execution_count": 16,
     "metadata": {},
     "output_type": "execute_result"
    }
   ],
   "source": [
    "A.T"
   ]
  },
  {
   "cell_type": "code",
   "execution_count": 21,
   "metadata": {},
   "outputs": [
    {
     "data": {
      "text/latex": [
       "$\\displaystyle \\left[ \\left[\\begin{matrix}- \\frac{b - n}{- n + r}\\\\- \\frac{- b + r}{- n + r}\\\\1\\\\0\\\\0\\\\0\\\\0\\\\0\\end{matrix}\\right], \\  \\left[\\begin{matrix}- \\frac{- n + q}{- n + r}\\\\- \\frac{- q + r}{- n + r}\\\\0\\\\1\\\\0\\\\0\\\\0\\\\0\\end{matrix}\\right], \\  \\left[\\begin{matrix}- \\frac{k - n}{- n + r}\\\\- \\frac{- k + r}{- n + r}\\\\0\\\\0\\\\1\\\\0\\\\0\\\\0\\end{matrix}\\right], \\  \\left[\\begin{matrix}- \\frac{b - n}{- n + r}\\\\- \\frac{- b + r}{- n + r}\\\\0\\\\0\\\\0\\\\1\\\\0\\\\0\\end{matrix}\\right], \\  \\left[\\begin{matrix}0\\\\-1\\\\0\\\\0\\\\0\\\\0\\\\1\\\\0\\end{matrix}\\right], \\  \\left[\\begin{matrix}-1\\\\0\\\\0\\\\0\\\\0\\\\0\\\\0\\\\1\\end{matrix}\\right]\\right]$"
      ],
      "text/plain": [
       "⎡⎡-(b - n)  ⎤  ⎡-(-n + q) ⎤  ⎡-(k - n)  ⎤  ⎡-(b - n)  ⎤            ⎤\n",
       "⎢⎢───────── ⎥  ⎢──────────⎥  ⎢───────── ⎥  ⎢───────── ⎥            ⎥\n",
       "⎢⎢ -n + r   ⎥  ⎢  -n + r  ⎥  ⎢ -n + r   ⎥  ⎢ -n + r   ⎥  ⎡0 ⎤  ⎡-1⎤⎥\n",
       "⎢⎢          ⎥  ⎢          ⎥  ⎢          ⎥  ⎢          ⎥  ⎢  ⎥  ⎢  ⎥⎥\n",
       "⎢⎢-(-b + r) ⎥  ⎢-(-q + r) ⎥  ⎢-(-k + r) ⎥  ⎢-(-b + r) ⎥  ⎢-1⎥  ⎢0 ⎥⎥\n",
       "⎢⎢──────────⎥  ⎢──────────⎥  ⎢──────────⎥  ⎢──────────⎥  ⎢  ⎥  ⎢  ⎥⎥\n",
       "⎢⎢  -n + r  ⎥  ⎢  -n + r  ⎥  ⎢  -n + r  ⎥  ⎢  -n + r  ⎥  ⎢0 ⎥  ⎢0 ⎥⎥\n",
       "⎢⎢          ⎥  ⎢          ⎥  ⎢          ⎥  ⎢          ⎥  ⎢  ⎥  ⎢  ⎥⎥\n",
       "⎢⎢    1     ⎥  ⎢    0     ⎥  ⎢    0     ⎥  ⎢    0     ⎥  ⎢0 ⎥  ⎢0 ⎥⎥\n",
       "⎢⎢          ⎥, ⎢          ⎥, ⎢          ⎥, ⎢          ⎥, ⎢  ⎥, ⎢  ⎥⎥\n",
       "⎢⎢    0     ⎥  ⎢    1     ⎥  ⎢    0     ⎥  ⎢    0     ⎥  ⎢0 ⎥  ⎢0 ⎥⎥\n",
       "⎢⎢          ⎥  ⎢          ⎥  ⎢          ⎥  ⎢          ⎥  ⎢  ⎥  ⎢  ⎥⎥\n",
       "⎢⎢    0     ⎥  ⎢    0     ⎥  ⎢    1     ⎥  ⎢    0     ⎥  ⎢0 ⎥  ⎢0 ⎥⎥\n",
       "⎢⎢          ⎥  ⎢          ⎥  ⎢          ⎥  ⎢          ⎥  ⎢  ⎥  ⎢  ⎥⎥\n",
       "⎢⎢    0     ⎥  ⎢    0     ⎥  ⎢    0     ⎥  ⎢    1     ⎥  ⎢1 ⎥  ⎢0 ⎥⎥\n",
       "⎢⎢          ⎥  ⎢          ⎥  ⎢          ⎥  ⎢          ⎥  ⎢  ⎥  ⎢  ⎥⎥\n",
       "⎢⎢    0     ⎥  ⎢    0     ⎥  ⎢    0     ⎥  ⎢    0     ⎥  ⎣0 ⎦  ⎣1 ⎦⎥\n",
       "⎢⎢          ⎥  ⎢          ⎥  ⎢          ⎥  ⎢          ⎥            ⎥\n",
       "⎣⎣    0     ⎦  ⎣    0     ⎦  ⎣    0     ⎦  ⎣    0     ⎦            ⎦"
      ]
     },
     "execution_count": 21,
     "metadata": {},
     "output_type": "execute_result"
    }
   ],
   "source": [
    "B.nullspace()"
   ]
  },
  {
   "cell_type": "code",
   "execution_count": 46,
   "metadata": {},
   "outputs": [
    {
     "data": {
      "text/latex": [
       "$\\displaystyle \\left[\\begin{matrix}1 & 0 & -1\\\\0 & 1 & 0\\\\0 & 0 & 1\\end{matrix}\\right]$"
      ],
      "text/plain": [
       "⎡1  0  -1⎤\n",
       "⎢        ⎥\n",
       "⎢0  1  0 ⎥\n",
       "⎢        ⎥\n",
       "⎣0  0  1 ⎦"
      ]
     },
     "execution_count": 46,
     "metadata": {},
     "output_type": "execute_result"
    }
   ],
   "source": [
    "A = Matrix([[1,0,0], [-1, 1, 0], [0, -1, 1]])\n",
    "A = Matrix([[1,0,-1], [0, 1, 0], [0, 0, 1]])\n",
    "A"
   ]
  },
  {
   "cell_type": "code",
   "execution_count": 54,
   "metadata": {},
   "outputs": [
    {
     "data": {
      "text/latex": [
       "$\\displaystyle \\left[\\begin{matrix}10 & 0 & 0\\\\0 & 1 & 0\\\\0 & 0 & 0\\end{matrix}\\right]$"
      ],
      "text/plain": [
       "⎡10  0  0⎤\n",
       "⎢        ⎥\n",
       "⎢0   1  0⎥\n",
       "⎢        ⎥\n",
       "⎣0   0  0⎦"
      ]
     },
     "execution_count": 54,
     "metadata": {},
     "output_type": "execute_result"
    }
   ],
   "source": [
    "B = Matrix([[10,0,0], [0,1,0], [0,0,0]])\n",
    "B\n"
   ]
  },
  {
   "cell_type": "code",
   "execution_count": 55,
   "metadata": {},
   "outputs": [
    {
     "data": {
      "text/latex": [
       "$\\displaystyle \\left[\\begin{matrix}10 & 0 & 0\\\\0 & 1 & 0\\\\0 & 0 & 0\\end{matrix}\\right]$"
      ],
      "text/plain": [
       "⎡10  0  0⎤\n",
       "⎢        ⎥\n",
       "⎢0   1  0⎥\n",
       "⎢        ⎥\n",
       "⎣0   0  0⎦"
      ]
     },
     "execution_count": 55,
     "metadata": {},
     "output_type": "execute_result"
    }
   ],
   "source": [
    "A*B"
   ]
  },
  {
   "cell_type": "code",
   "execution_count": 46,
   "metadata": {},
   "outputs": [],
   "source": [
    "import numpy as np"
   ]
  },
  {
   "cell_type": "code",
   "execution_count": 55,
   "metadata": {},
   "outputs": [
    {
     "data": {
      "text/latex": [
       "$\\displaystyle \\left[\\begin{matrix}1 & 1 & 1 & 1.0 & 0.0\\\\1 & 2.71828182845905 & 7.38905609893065 & 0.54030230586814 & 0.841470984807897\\\\1 & 7.38905609893065 & 54.5981500331442 & -0.416146836547142 & 0.909297426825682\\\\1 & 20.0855369231877 & 403.428793492735 & -0.989992496600445 & 0.141120008059867\\\\1 & 54.5981500331442 & 2980.95798704173 & -0.653643620863612 & -0.756802495307928\\end{matrix}\\right]$"
      ],
      "text/plain": [
       "⎡1         1                 1                 1.0                 0.0        ⎤\n",
       "⎢                                                                             ⎥\n",
       "⎢1  2.71828182845905  7.38905609893065   0.54030230586814   0.841470984807897 ⎥\n",
       "⎢                                                                             ⎥\n",
       "⎢1  7.38905609893065  54.5981500331442  -0.416146836547142  0.909297426825682 ⎥\n",
       "⎢                                                                             ⎥\n",
       "⎢1  20.0855369231877  403.428793492735  -0.989992496600445  0.141120008059867 ⎥\n",
       "⎢                                                                             ⎥\n",
       "⎣1  54.5981500331442  2980.95798704173  -0.653643620863612  -0.756802495307928⎦"
      ]
     },
     "execution_count": 55,
     "metadata": {},
     "output_type": "execute_result"
    }
   ],
   "source": [
    "a = symbols('a')\n",
    "A = Matrix([[1, 1, 1, np.cos(0), np.sin(0)], [1, np.exp(1), np.exp(2), np.cos(1), np.sin(1)], [1, np.exp(2), np.exp(4), np.cos(2), np.sin(2)], [1, np.exp(3), np.exp(6), np.cos(3), np.sin(3)], [1, np.exp(4), np.exp(8), np.cos(4), np.sin(4)]])\n",
    "A"
   ]
  },
  {
   "cell_type": "code",
   "execution_count": 56,
   "metadata": {},
   "outputs": [
    {
     "data": {
      "image/png": "[encoded data removed]",
      "text/latex": [
       "$\\displaystyle 10297.2435887518$"
      ],
      "text/plain": [
       "10297.2435887518"
      ]
     },
     "execution_count": 56,
     "metadata": {},
     "output_type": "execute_result"
    }
   ],
   "source": [
    "A.det()"
   ]
  },
  {
   "cell_type": "code",
   "execution_count": null,
   "metadata": {},
   "outputs": [
    {
     "data": {
      "text/latex": [
       "$\\displaystyle \\left( \\left[\\begin{matrix}-8 & -1 & 0 & 1 & 8\\\\-1 & 0 & 1 & 8 & 27\\\\0 & 1 & 8 & 27 & 64\\\\1 & 8 & 27 & 64 & 125\\\\8 & 27 & 64 & 125 & 216\\end{matrix}\\right], \\  0, \\  \\left( \\left[\\begin{matrix}1 & 0 & 0 & 0 & -1\\\\0 & 1 & 0 & 0 & 4\\\\0 & 0 & 1 & 0 & -6\\\\0 & 0 & 0 & 1 & 4\\\\0 & 0 & 0 & 0 & 0\\end{matrix}\\right], \\  \\left( 0, \\  1, \\  2, \\  3\\right)\\right)\\right)$"
      ],
      "text/plain": [
       "⎛⎡-8  -1  0    1    8 ⎤     ⎛⎡1  0  0  0  -1⎤              ⎞⎞\n",
       "⎜⎢                    ⎥     ⎜⎢              ⎥              ⎟⎟\n",
       "⎜⎢-1  0   1    8   27 ⎥     ⎜⎢0  1  0  0  4 ⎥              ⎟⎟\n",
       "⎜⎢                    ⎥     ⎜⎢              ⎥              ⎟⎟\n",
       "⎜⎢0   1   8   27   64 ⎥, 0, ⎜⎢0  0  1  0  -6⎥, (0, 1, 2, 3)⎟⎟\n",
       "⎜⎢                    ⎥     ⎜⎢              ⎥              ⎟⎟\n",
       "⎜⎢1   8   27  64   125⎥     ⎜⎢0  0  0  1  4 ⎥              ⎟⎟\n",
       "⎜⎢                    ⎥     ⎜⎢              ⎥              ⎟⎟\n",
       "⎝⎣8   27  64  125  216⎦     ⎝⎣0  0  0  0  0 ⎦              ⎠⎠"
      ]
     },
     "execution_count": 94,
     "metadata": {},
     "output_type": "execute_result"
    }
   ],
   "source": [
    "b = Matrix([[1,0,0], [0,1,0], [0,0,1]])\n",
    "c = b\n",
    "m = 2\n",
    "A = Matrix([[(j*b+i*c).det() for i in range(-m, m+1)] for j in range(0, 2*m+1)])\n",
    "A, A.det(), A.rref()"
   ]
  },
  {
   "cell_type": "code",
   "execution_count": 90,
   "metadata": {},
   "outputs": [
    {
     "data": {
      "text/latex": [
       "$\\displaystyle \\left[ \\left[ \\left[\\begin{matrix}-1 & -2 & -3\\\\0 & -1 & -17\\\\-12 & -2 & -1\\end{matrix}\\right], \\  \\left[\\begin{matrix}0 & 0 & 0\\\\0 & 0 & 0\\\\0 & 0 & 0\\end{matrix}\\right], \\  \\left[\\begin{matrix}1 & 2 & 3\\\\0 & 1 & 17\\\\12 & 2 & 1\\end{matrix}\\right]\\right], \\  \\left[ \\left[\\begin{matrix}0 & 0 & 0\\\\0 & 0 & 0\\\\0 & 0 & 0\\end{matrix}\\right], \\  \\left[\\begin{matrix}1 & 2 & 3\\\\0 & 1 & 17\\\\12 & 2 & 1\\end{matrix}\\right], \\  \\left[\\begin{matrix}2 & 4 & 6\\\\0 & 2 & 34\\\\24 & 4 & 2\\end{matrix}\\right]\\right], \\  \\left[ \\left[\\begin{matrix}1 & 2 & 3\\\\0 & 1 & 17\\\\12 & 2 & 1\\end{matrix}\\right], \\  \\left[\\begin{matrix}2 & 4 & 6\\\\0 & 2 & 34\\\\24 & 4 & 2\\end{matrix}\\right], \\  \\left[\\begin{matrix}3 & 6 & 9\\\\0 & 3 & 51\\\\36 & 6 & 3\\end{matrix}\\right]\\right]\\right]$"
      ],
      "text/plain": [
       "⎡⎡⎡-1   -2  -3 ⎤  ⎡0  0  0⎤  ⎡1   2  3 ⎤⎤  ⎡⎡0  0  0⎤  ⎡1   2  3 ⎤  ⎡2   4  6  ↪\n",
       "⎢⎢⎢            ⎥  ⎢       ⎥  ⎢         ⎥⎥  ⎢⎢       ⎥  ⎢         ⎥  ⎢          ↪\n",
       "⎢⎢⎢ 0   -1  -17⎥, ⎢0  0  0⎥, ⎢0   1  17⎥⎥, ⎢⎢0  0  0⎥, ⎢0   1  17⎥, ⎢0   2  34 ↪\n",
       "⎢⎢⎢            ⎥  ⎢       ⎥  ⎢         ⎥⎥  ⎢⎢       ⎥  ⎢         ⎥  ⎢          ↪\n",
       "⎣⎣⎣-12  -2  -1 ⎦  ⎣0  0  0⎦  ⎣12  2  1 ⎦⎦  ⎣⎣0  0  0⎦  ⎣12  2  1 ⎦  ⎣24  4  2  ↪\n",
       "\n",
       "↪ ⎤⎤  ⎡⎡1   2  3 ⎤  ⎡2   4  6 ⎤  ⎡3   6  9 ⎤⎤⎤\n",
       "↪ ⎥⎥  ⎢⎢         ⎥  ⎢         ⎥  ⎢         ⎥⎥⎥\n",
       "↪ ⎥⎥, ⎢⎢0   1  17⎥, ⎢0   2  34⎥, ⎢0   3  51⎥⎥⎥\n",
       "↪ ⎥⎥  ⎢⎢         ⎥  ⎢         ⎥  ⎢         ⎥⎥⎥\n",
       "↪ ⎦⎦  ⎣⎣12  2  1 ⎦  ⎣24  4  2 ⎦  ⎣36  6  3 ⎦⎦⎦"
      ]
     },
     "execution_count": 90,
     "metadata": {},
     "output_type": "execute_result"
    }
   ],
   "source": [
    "[[(j*b+i*c) for i in range(-m, m+1)] for j in range(0, 2*m+1)]"
   ]
  },
  {
   "cell_type": "code",
   "execution_count": 95,
   "metadata": {},
   "outputs": [
    {
     "data": {
      "text/latex": [
       "$\\displaystyle \\left[\\begin{array}{cccccccccccc}98 & 72 & 28 & 40 & 20 & 22 & 71 & 37 & 20 & 51 & 63 & 31\\\\83 & 89 & 81 & 11 & 78 & 64 & 53 & 25 & 48 & 10 & 70 & 77\\\\96 & 15 & 57 & 64 & 25 & 51 & 20 & 73 & 70 & 33 & 53 & 17\\\\24 & 42 & 64 & 62 & 26 & 76 & 35 & 6 & 19 & 21 & 90 & 91\\\\18 & 32 & 23 & 61 & 46 & 54 & 89 & 8 & 70 & 7 & 8 & 81\\\\64 & 50 & 4 & 28 & 9 & 90 & 30 & 34 & 63 & 16 & 26 & 44\\end{array}\\right]$"
      ],
      "text/plain": [
       "⎡98  72  28  40  20  22  71  37  20  51  63  31⎤\n",
       "⎢                                              ⎥\n",
       "⎢83  89  81  11  78  64  53  25  48  10  70  77⎥\n",
       "⎢                                              ⎥\n",
       "⎢96  15  57  64  25  51  20  73  70  33  53  17⎥\n",
       "⎢                                              ⎥\n",
       "⎢24  42  64  62  26  76  35  6   19  21  90  91⎥\n",
       "⎢                                              ⎥\n",
       "⎢18  32  23  61  46  54  89  8   70  7   8   81⎥\n",
       "⎢                                              ⎥\n",
       "⎣64  50  4   28  9   90  30  34  63  16  26  44⎦"
      ]
     },
     "execution_count": 95,
     "metadata": {},
     "output_type": "execute_result"
    }
   ],
   "source": [
    "from sympy import randMatrix\n",
    "A = randMatrix(6, 12)\n",
    "A"
   ]
  },
  {
   "cell_type": "code",
   "execution_count": 96,
   "metadata": {},
   "outputs": [
    {
     "data": {
      "text/latex": [
       "$\\displaystyle \\left[ \\left[\\begin{matrix}\\frac{4651319564}{33235195479}\\\\- \\frac{8747656293}{11078398493}\\\\\\frac{18581637105}{22156796986}\\\\- \\frac{67037939485}{66470390958}\\\\- \\frac{32141875519}{33235195479}\\\\\\frac{8397972869}{22156796986}\\\\1\\\\0\\\\0\\\\0\\\\0\\\\0\\end{matrix}\\right], \\  \\left[\\begin{matrix}- \\frac{50428737899}{66470390958}\\\\\\frac{13015500855}{22156796986}\\\\\\frac{1017394957}{22156796986}\\\\- \\frac{1378918879}{66470390958}\\\\- \\frac{3504103501}{33235195479}\\\\- \\frac{1658156191}{11078398493}\\\\0\\\\1\\\\0\\\\0\\\\0\\\\0\\end{matrix}\\right], \\  \\left[\\begin{matrix}- \\frac{12094017727}{22156796986}\\\\\\frac{17867524889}{22156796986}\\\\\\frac{9145513634}{11078398493}\\\\- \\frac{2411007602}{11078398493}\\\\- \\frac{14280344385}{11078398493}\\\\- \\frac{13292653383}{22156796986}\\\\0\\\\0\\\\1\\\\0\\\\0\\\\0\\end{matrix}\\right], \\  \\left[\\begin{matrix}- \\frac{2305117638}{11078398493}\\\\- \\frac{4053004858}{11078398493}\\\\- \\frac{2582857251}{22156796986}\\\\- \\frac{8983293159}{22156796986}\\\\\\frac{5296050603}{11078398493}\\\\\\frac{5693127981}{22156796986}\\\\0\\\\0\\\\0\\\\1\\\\0\\\\0\\end{matrix}\\right], \\  \\left[\\begin{matrix}\\frac{9013286687}{66470390958}\\\\- \\frac{17464103777}{22156796986}\\\\- \\frac{28402283779}{22156796986}\\\\- \\frac{13840248659}{66470390958}\\\\\\frac{38926487323}{33235195479}\\\\\\frac{633727129}{11078398493}\\\\0\\\\0\\\\0\\\\0\\\\1\\\\0\\end{matrix}\\right], \\  \\left[\\begin{matrix}\\frac{21074430191}{33235195479}\\\\- \\frac{8338320156}{11078398493}\\\\- \\frac{2945784389}{22156796986}\\\\- \\frac{36063783559}{66470390958}\\\\- \\frac{11001453745}{33235195479}\\\\- \\frac{6953950741}{22156796986}\\\\0\\\\0\\\\0\\\\0\\\\0\\\\1\\end{matrix}\\right]\\right]$"
      ],
      "text/plain": [
       "⎡⎡ 4651319564  ⎤  ⎡-50428737899 ⎤  ⎡-12094017727 ⎤  ⎡-2305117638 ⎤  ⎡ 90132866 ↪\n",
       "⎢⎢ ─────────── ⎥  ⎢─────────────⎥  ⎢─────────────⎥  ⎢────────────⎥  ⎢ ──────── ↪\n",
       "⎢⎢ 33235195479 ⎥  ⎢ 66470390958 ⎥  ⎢ 22156796986 ⎥  ⎢11078398493 ⎥  ⎢ 66470390 ↪\n",
       "⎢⎢             ⎥  ⎢             ⎥  ⎢             ⎥  ⎢            ⎥  ⎢          ↪\n",
       "⎢⎢-8747656293  ⎥  ⎢ 13015500855 ⎥  ⎢ 17867524889 ⎥  ⎢-4053004858 ⎥  ⎢-17464103 ↪\n",
       "⎢⎢──────────── ⎥  ⎢ ─────────── ⎥  ⎢ ─────────── ⎥  ⎢────────────⎥  ⎢───────── ↪\n",
       "⎢⎢11078398493  ⎥  ⎢ 22156796986 ⎥  ⎢ 22156796986 ⎥  ⎢11078398493 ⎥  ⎢ 22156796 ↪\n",
       "⎢⎢             ⎥  ⎢             ⎥  ⎢             ⎥  ⎢            ⎥  ⎢          ↪\n",
       "⎢⎢ 18581637105 ⎥  ⎢ 1017394957  ⎥  ⎢ 9145513634  ⎥  ⎢-2582857251 ⎥  ⎢-28402283 ↪\n",
       "⎢⎢ ─────────── ⎥  ⎢ ─────────── ⎥  ⎢ ─────────── ⎥  ⎢────────────⎥  ⎢───────── ↪\n",
       "⎢⎢ 22156796986 ⎥  ⎢ 22156796986 ⎥  ⎢ 11078398493 ⎥  ⎢22156796986 ⎥  ⎢ 22156796 ↪\n",
       "⎢⎢             ⎥  ⎢             ⎥  ⎢             ⎥  ⎢            ⎥  ⎢          ↪\n",
       "⎢⎢-67037939485 ⎥  ⎢-1378918879  ⎥  ⎢-2411007602  ⎥  ⎢-8983293159 ⎥  ⎢-13840248 ↪\n",
       "⎢⎢─────────────⎥  ⎢──────────── ⎥  ⎢──────────── ⎥  ⎢────────────⎥  ⎢───────── ↪\n",
       "⎢⎢ 66470390958 ⎥  ⎢66470390958  ⎥  ⎢11078398493  ⎥  ⎢22156796986 ⎥  ⎢ 66470390 ↪\n",
       "⎢⎢             ⎥  ⎢             ⎥  ⎢             ⎥  ⎢            ⎥  ⎢          ↪\n",
       "⎢⎢-32141875519 ⎥  ⎢-3504103501  ⎥  ⎢-14280344385 ⎥  ⎢5296050603  ⎥  ⎢ 38926487 ↪\n",
       "⎢⎢─────────────⎥, ⎢──────────── ⎥, ⎢─────────────⎥, ⎢─────────── ⎥, ⎢ ──────── ↪\n",
       "⎢⎢ 33235195479 ⎥  ⎢33235195479  ⎥  ⎢ 11078398493 ⎥  ⎢11078398493 ⎥  ⎢ 33235195 ↪\n",
       "⎢⎢             ⎥  ⎢             ⎥  ⎢             ⎥  ⎢            ⎥  ⎢          ↪\n",
       "⎢⎢ 8397972869  ⎥  ⎢-1658156191  ⎥  ⎢-13292653383 ⎥  ⎢5693127981  ⎥  ⎢  6337271 ↪\n",
       "⎢⎢ ─────────── ⎥  ⎢──────────── ⎥  ⎢─────────────⎥  ⎢─────────── ⎥  ⎢ ──────── ↪\n",
       "⎢⎢ 22156796986 ⎥  ⎢11078398493  ⎥  ⎢ 22156796986 ⎥  ⎢22156796986 ⎥  ⎢ 11078398 ↪\n",
       "⎢⎢             ⎥  ⎢             ⎥  ⎢             ⎥  ⎢            ⎥  ⎢          ↪\n",
       "⎢⎢      1      ⎥  ⎢      0      ⎥  ⎢      0      ⎥  ⎢     0      ⎥  ⎢      0   ↪\n",
       "⎢⎢             ⎥  ⎢             ⎥  ⎢             ⎥  ⎢            ⎥  ⎢          ↪\n",
       "⎢⎢      0      ⎥  ⎢      1      ⎥  ⎢      0      ⎥  ⎢     0      ⎥  ⎢      0   ↪\n",
       "⎢⎢             ⎥  ⎢             ⎥  ⎢             ⎥  ⎢            ⎥  ⎢          ↪\n",
       "⎢⎢      0      ⎥  ⎢      0      ⎥  ⎢      1      ⎥  ⎢     0      ⎥  ⎢      0   ↪\n",
       "⎢⎢             ⎥  ⎢             ⎥  ⎢             ⎥  ⎢            ⎥  ⎢          ↪\n",
       "⎢⎢      0      ⎥  ⎢      0      ⎥  ⎢      0      ⎥  ⎢     1      ⎥  ⎢      0   ↪\n",
       "⎢⎢             ⎥  ⎢             ⎥  ⎢             ⎥  ⎢            ⎥  ⎢          ↪\n",
       "⎢⎢      0      ⎥  ⎢      0      ⎥  ⎢      0      ⎥  ⎢     0      ⎥  ⎢      1   ↪\n",
       "⎢⎢             ⎥  ⎢             ⎥  ⎢             ⎥  ⎢            ⎥  ⎢          ↪\n",
       "⎣⎣      0      ⎦  ⎣      0      ⎦  ⎣      0      ⎦  ⎣     0      ⎦  ⎣      0   ↪\n",
       "\n",
       "↪ 87  ⎤  ⎡ 21074430191 ⎤⎤\n",
       "↪ ─── ⎥  ⎢ ─────────── ⎥⎥\n",
       "↪ 958 ⎥  ⎢ 33235195479 ⎥⎥\n",
       "↪     ⎥  ⎢             ⎥⎥\n",
       "↪ 777 ⎥  ⎢-8338320156  ⎥⎥\n",
       "↪ ────⎥  ⎢──────────── ⎥⎥\n",
       "↪ 986 ⎥  ⎢11078398493  ⎥⎥\n",
       "↪     ⎥  ⎢             ⎥⎥\n",
       "↪ 779 ⎥  ⎢-2945784389  ⎥⎥\n",
       "↪ ────⎥  ⎢──────────── ⎥⎥\n",
       "↪ 986 ⎥  ⎢22156796986  ⎥⎥\n",
       "↪     ⎥  ⎢             ⎥⎥\n",
       "↪ 659 ⎥  ⎢-36063783559 ⎥⎥\n",
       "↪ ────⎥  ⎢─────────────⎥⎥\n",
       "↪ 958 ⎥  ⎢ 66470390958 ⎥⎥\n",
       "↪     ⎥  ⎢             ⎥⎥\n",
       "↪ 323 ⎥  ⎢-11001453745 ⎥⎥\n",
       "↪ ─── ⎥, ⎢─────────────⎥⎥\n",
       "↪ 479 ⎥  ⎢ 33235195479 ⎥⎥\n",
       "↪     ⎥  ⎢             ⎥⎥\n",
       "↪ 29  ⎥  ⎢-6953950741  ⎥⎥\n",
       "↪ ─── ⎥  ⎢──────────── ⎥⎥\n",
       "↪ 493 ⎥  ⎢22156796986  ⎥⎥\n",
       "↪     ⎥  ⎢             ⎥⎥\n",
       "↪     ⎥  ⎢      0      ⎥⎥\n",
       "↪     ⎥  ⎢             ⎥⎥\n",
       "↪     ⎥  ⎢      0      ⎥⎥\n",
       "↪     ⎥  ⎢             ⎥⎥\n",
       "↪     ⎥  ⎢      0      ⎥⎥\n",
       "↪     ⎥  ⎢             ⎥⎥\n",
       "↪     ⎥  ⎢      0      ⎥⎥\n",
       "↪     ⎥  ⎢             ⎥⎥\n",
       "↪     ⎥  ⎢      0      ⎥⎥\n",
       "↪     ⎥  ⎢             ⎥⎥\n",
       "↪     ⎦  ⎣      1      ⎦⎦"
      ]
     },
     "execution_count": 96,
     "metadata": {},
     "output_type": "execute_result"
    }
   ],
   "source": [
    "a_null = A.nullspace()\n",
    "a_null"
   ]
  },
  {
   "cell_type": "code",
   "execution_count": 104,
   "metadata": {},
   "outputs": [
    {
     "data": {
      "text/latex": [
       "$\\displaystyle \\left[\\begin{array}{cccccccccccc}0 & 0 & 0 & 0 & 0 & 0 & 0 & 0 & 0 & 0 & 0 & 0\\\\0 & 0 & 0 & 0 & 0 & 0 & 0 & 0 & 0 & 0 & 0 & 0\\\\0 & 0 & 0 & 0 & 0 & 0 & 0 & 0 & 0 & 0 & 0 & 0\\\\0 & 0 & 0 & 0 & 0 & 0 & 0 & 0 & 0 & 0 & 0 & 0\\\\0 & 0 & 0 & 0 & 0 & 0 & 0 & 0 & 0 & 0 & 0 & 0\\\\0 & 0 & 0 & 0 & 0 & 0 & 0 & 0 & 0 & 0 & 0 & 0\\end{array}\\right]$"
      ],
      "text/plain": [
       "⎡0  0  0  0  0  0  0  0  0  0  0  0⎤\n",
       "⎢                                  ⎥\n",
       "⎢0  0  0  0  0  0  0  0  0  0  0  0⎥\n",
       "⎢                                  ⎥\n",
       "⎢0  0  0  0  0  0  0  0  0  0  0  0⎥\n",
       "⎢                                  ⎥\n",
       "⎢0  0  0  0  0  0  0  0  0  0  0  0⎥\n",
       "⎢                                  ⎥\n",
       "⎢0  0  0  0  0  0  0  0  0  0  0  0⎥\n",
       "⎢                                  ⎥\n",
       "⎣0  0  0  0  0  0  0  0  0  0  0  0⎦"
      ]
     },
     "execution_count": 104,
     "metadata": {},
     "output_type": "execute_result"
    }
   ],
   "source": [
    "B = Matrix([a_null]).T.nullspace()\n",
    "A.rref()[0] - Matrix([B]).T.rref()[0]"
   ]
  },
  {
   "cell_type": "code",
   "execution_count": 35,
   "metadata": {},
   "outputs": [
    {
     "data": {
      "text/latex": [
       "$\\displaystyle \\left[\\begin{matrix}0\\\\1\\\\3\\\\4\\end{matrix}\\right]$"
      ],
      "text/plain": [
       "⎡0⎤\n",
       "⎢ ⎥\n",
       "⎢1⎥\n",
       "⎢ ⎥\n",
       "⎢3⎥\n",
       "⎢ ⎥\n",
       "⎣4⎦"
      ]
     },
     "execution_count": 35,
     "metadata": {},
     "output_type": "execute_result"
    }
   ],
   "source": [
    "A = Matrix([[0,1,3,4]]).T\n",
    "A"
   ]
  },
  {
   "cell_type": "code",
   "execution_count": 37,
   "metadata": {},
   "outputs": [
    {
     "data": {
      "text/latex": [
       "$\\displaystyle \\left[\\begin{matrix}\\frac{56}{13}\\end{matrix}\\right]$"
      ],
      "text/plain": [
       "⎡56⎤\n",
       "⎢──⎥\n",
       "⎣13⎦"
      ]
     },
     "execution_count": 37,
     "metadata": {},
     "output_type": "execute_result"
    }
   ],
   "source": [
    "x = (A.T*A).inv() * A.T * Matrix([[0,8,8,20]]).T\n",
    "x"
   ]
  },
  {
   "cell_type": "code",
   "execution_count": 43,
   "metadata": {},
   "outputs": [
    {
     "data": {
      "text/latex": [
       "$\\displaystyle \\left[\\begin{matrix}1 & 1 & 0\\\\1 & 0 & 1\\\\1 & -1 & 0\\\\1 & 0 & -1\\end{matrix}\\right]$"
      ],
      "text/plain": [
       "⎡1  1   0 ⎤\n",
       "⎢         ⎥\n",
       "⎢1  0   1 ⎥\n",
       "⎢         ⎥\n",
       "⎢1  -1  0 ⎥\n",
       "⎢         ⎥\n",
       "⎣1  0   -1⎦"
      ]
     },
     "execution_count": 43,
     "metadata": {},
     "output_type": "execute_result"
    }
   ],
   "source": [
    "A = Matrix([\n",
    "    [1, 1, 0], [1,0,1],\n",
    "            [1,-1,0], [1,0,-1]\n",
    "            ])\n",
    "A"
   ]
  },
  {
   "cell_type": "code",
   "execution_count": 47,
   "metadata": {},
   "outputs": [
    {
     "data": {
      "text/latex": [
       "$\\displaystyle \\left[\\begin{matrix}8\\\\-3\\\\-3\\end{matrix}\\right]$"
      ],
      "text/plain": [
       "⎡8 ⎤\n",
       "⎢  ⎥\n",
       "⎢-3⎥\n",
       "⎢  ⎥\n",
       "⎣-3⎦"
      ]
     },
     "execution_count": 47,
     "metadata": {},
     "output_type": "execute_result"
    }
   ],
   "source": [
    "A.T*Matrix([[0,1,3,4]]).T"
   ]
  },
  {
   "cell_type": "code",
   "execution_count": 45,
   "metadata": {},
   "outputs": [
    {
     "data": {
      "text/latex": [
       "$\\displaystyle \\left[\\begin{matrix}2\\\\- \\frac{3}{2}\\\\- \\frac{3}{2}\\end{matrix}\\right]$"
      ],
      "text/plain": [
       "⎡ 2  ⎤\n",
       "⎢    ⎥\n",
       "⎢-3/2⎥\n",
       "⎢    ⎥\n",
       "⎣-3/2⎦"
      ]
     },
     "execution_count": 45,
     "metadata": {},
     "output_type": "execute_result"
    }
   ],
   "source": [
    "x = (A.T*A).inv() * A.T * Matrix([[0,1,3,4]]).T\n",
    "x"
   ]
  },
  {
   "cell_type": "code",
   "execution_count": 29,
   "metadata": {},
   "outputs": [
    {
     "data": {
      "text/latex": [
       "$\\displaystyle \\left[\\begin{matrix}4\\\\2\\\\4\\\\4\\end{matrix}\\right]$"
      ],
      "text/plain": [
       "⎡4⎤\n",
       "⎢ ⎥\n",
       "⎢2⎥\n",
       "⎢ ⎥\n",
       "⎢4⎥\n",
       "⎢ ⎥\n",
       "⎣4⎦"
      ]
     },
     "execution_count": 29,
     "metadata": {},
     "output_type": "execute_result"
    }
   ],
   "source": [
    "b = Matrix([[4,2,4,4]]).T\n",
    "b"
   ]
  },
  {
   "cell_type": "code",
   "execution_count": 30,
   "metadata": {},
   "outputs": [
    {
     "data": {
      "text/latex": [
       "$\\displaystyle \\left[\\begin{matrix}1\\\\2\\\\3\\\\4\\end{matrix}\\right]$"
      ],
      "text/plain": [
       "⎡1⎤\n",
       "⎢ ⎥\n",
       "⎢2⎥\n",
       "⎢ ⎥\n",
       "⎢3⎥\n",
       "⎢ ⎥\n",
       "⎣4⎦"
      ]
     },
     "execution_count": 30,
     "metadata": {},
     "output_type": "execute_result"
    }
   ],
   "source": [
    "Pr = (A.T*A).inv() * A.T*b\n",
    "Pr"
   ]
  },
  {
   "cell_type": "code",
   "execution_count": 33,
   "metadata": {},
   "outputs": [
    {
     "data": {
      "text/latex": [
       "$\\displaystyle \\left[\\begin{matrix}4 & 2 & 4 & 4\\end{matrix}\\right]$"
      ],
      "text/plain": [
       "[4  2  4  4]"
      ]
     },
     "execution_count": 33,
     "metadata": {},
     "output_type": "execute_result"
    }
   ],
   "source": [
    "3 * Matrix([[-1,-1,1,-1]]) + 4 * Matrix([[2,2,0,1]]) + Matrix([[1,1,1,1]]) + 2 * Matrix([[-1,-2,0,1]])"
   ]
  },
  {
   "cell_type": "code",
   "execution_count": 25,
   "metadata": {},
   "outputs": [
    {
     "data": {
      "text/latex": [
       "$\\displaystyle \\left[\\begin{matrix}\\frac{9}{25} & \\frac{12}{25}\\\\\\frac{12}{25} & \\frac{16}{25}\\end{matrix}\\right]$"
      ],
      "text/plain": [
       "⎡      12⎤\n",
       "⎢9/25  ──⎥\n",
       "⎢      25⎥\n",
       "⎢        ⎥\n",
       "⎢ 12   16⎥\n",
       "⎢ ──   ──⎥\n",
       "⎣ 25   25⎦"
      ]
     },
     "execution_count": 25,
     "metadata": {},
     "output_type": "execute_result"
    }
   ],
   "source": [
    "Pc = A*(A.T*A).inv()* A.T\n",
    "Pc"
   ]
  },
  {
   "cell_type": "code",
   "execution_count": 32,
   "metadata": {},
   "outputs": [
    {
     "data": {
      "text/latex": [
       "$\\displaystyle \\left[\\begin{matrix}3 & 6 & 6\\\\4 & 8 & 8\\end{matrix}\\right]$"
      ],
      "text/plain": [
       "⎡3  6  6⎤\n",
       "⎢       ⎥\n",
       "⎣4  8  8⎦"
      ]
     },
     "execution_count": 32,
     "metadata": {},
     "output_type": "execute_result"
    }
   ],
   "source": [
    "B = Pc*A*Pr\n",
    "B"
   ]
  },
  {
   "cell_type": "code",
   "execution_count": 11,
   "metadata": {},
   "outputs": [
    {
     "data": {
      "text/latex": [
       "$\\displaystyle \\left[\\begin{matrix}\\frac{1}{2}\\\\\\frac{3}{2}\\end{matrix}\\right]$"
      ],
      "text/plain": [
       "⎡1/2⎤\n",
       "⎢   ⎥\n",
       "⎣3/2⎦"
      ]
     },
     "execution_count": 11,
     "metadata": {},
     "output_type": "execute_result"
    }
   ],
   "source": [
    "x = (A.T*A).inv()*A.T*b\n",
    "x"
   ]
  },
  {
   "cell_type": "code",
   "execution_count": 13,
   "metadata": {},
   "outputs": [
    {
     "data": {
      "text/latex": [
       "$\\displaystyle \\left[\\begin{matrix}2\\\\1\\\\1\\end{matrix}\\right]$"
      ],
      "text/plain": [
       "⎡2⎤\n",
       "⎢ ⎥\n",
       "⎢1⎥\n",
       "⎢ ⎥\n",
       "⎣1⎦"
      ]
     },
     "execution_count": 13,
     "metadata": {},
     "output_type": "execute_result"
    }
   ],
   "source": [
    "p = P*b\n",
    "p"
   ]
  }
 ],
 "metadata": {
  "kernelspec": {
   "display_name": "la",
   "language": "python",
   "name": "python3"
  },
  "language_info": {
   "codemirror_mode": {
    "name": "ipython",
    "version": 3
   },
   "file_extension": ".py",
   "mimetype": "text/x-python",
   "name": "python",
   "nbconvert_exporter": "python",
   "pygments_lexer": "ipython3",
   "version": "3.12.6"
  }
 },
 "nbformat": 4,
 "nbformat_minor": 2
}
