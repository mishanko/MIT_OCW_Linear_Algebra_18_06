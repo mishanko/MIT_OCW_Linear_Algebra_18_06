{
 "cells": [
  {
   "cell_type": "code",
   "execution_count": 2,
   "metadata": {},
   "outputs": [],
   "source": [
    "from sympy import init_printing, Matrix, symbols, eye, Rational, ones\n",
    "init_printing()"
   ]
  },
  {
   "cell_type": "code",
   "execution_count": 6,
   "metadata": {},
   "outputs": [
    {
     "data": {
      "image/png": "[encoded data removed]",
      "text/latex": [
       "$\\displaystyle -3$"
      ],
      "text/plain": [
       "-3"
      ]
     },
     "execution_count": 6,
     "metadata": {},
     "output_type": "execute_result"
    }
   ],
   "source": [
    "A = eye(4) - ones(4) \n",
    "A.det()"
   ]
  },
  {
   "cell_type": "code",
   "execution_count": 7,
   "metadata": {},
   "outputs": [
    {
     "data": {
      "text/latex": [
       "$\\displaystyle \\left[\\begin{matrix}\\frac{2}{3} & - \\frac{1}{3} & - \\frac{1}{3} & - \\frac{1}{3}\\\\- \\frac{1}{3} & \\frac{2}{3} & - \\frac{1}{3} & - \\frac{1}{3}\\\\- \\frac{1}{3} & - \\frac{1}{3} & \\frac{2}{3} & - \\frac{1}{3}\\\\- \\frac{1}{3} & - \\frac{1}{3} & - \\frac{1}{3} & \\frac{2}{3}\\end{matrix}\\right]$"
      ],
      "text/plain": [
       "⎡2/3   -1/3  -1/3  -1/3⎤\n",
       "⎢                      ⎥\n",
       "⎢-1/3  2/3   -1/3  -1/3⎥\n",
       "⎢                      ⎥\n",
       "⎢-1/3  -1/3  2/3   -1/3⎥\n",
       "⎢                      ⎥\n",
       "⎣-1/3  -1/3  -1/3  2/3 ⎦"
      ]
     },
     "execution_count": 7,
     "metadata": {},
     "output_type": "execute_result"
    }
   ],
   "source": [
    "A.inv()"
   ]
  },
  {
   "cell_type": "code",
   "execution_count": 21,
   "metadata": {},
   "outputs": [
    {
     "data": {
      "image/png": "[encoded data removed]",
      "text/latex": [
       "$\\displaystyle 24$"
      ],
      "text/plain": [
       "24"
      ]
     },
     "execution_count": 21,
     "metadata": {},
     "output_type": "execute_result"
    }
   ],
   "source": [
    "A = Matrix([[1,2,3], [1,4,7]])\n",
    "B = A.T\n",
    "C = A * B\n",
    "C.det()"
   ]
  },
  {
   "cell_type": "code",
   "execution_count": 22,
   "metadata": {},
   "outputs": [
    {
     "data": {
      "image/png": "[encoded data removed]",
      "text/latex": [
       "$\\displaystyle 24$"
      ],
      "text/plain": [
       "24"
      ]
     },
     "execution_count": 22,
     "metadata": {},
     "output_type": "execute_result"
    }
   ],
   "source": [
    "B[[0,1], :].det()*A[:,[0,1]].det()+B[[0,2], :].det()*A[:,[0,2]].det()+B[[1,2], :].det()*A[:,[1,2]].det()"
   ]
  },
  {
   "cell_type": "code",
   "execution_count": 111,
   "metadata": {},
   "outputs": [
    {
     "data": {
      "text/latex": [
       "$\\displaystyle \\left( \\left[\\begin{matrix}0 & 0 & 0\\\\1 & 0 & 0\\\\0 & 1 & 0\\\\-1 & 0 & 0\\\\0 & 0 & 0\\\\0 & 0 & 1\\\\0 & -1 & 0\\\\0 & 0 & -1\\\\0 & 0 & 0\\end{matrix}\\right], \\  \\left[\\begin{matrix}0 & 0 & 0 & 1 & 0 & 0\\\\1 & 0 & 0 & 0 & 0 & 0\\\\0 & 1 & 0 & 0 & 0 & 0\\\\1 & 0 & 0 & 0 & 0 & 0\\\\0 & 0 & 0 & 0 & 1 & 0\\\\0 & 0 & 1 & 0 & 0 & 0\\\\0 & 1 & 0 & 0 & 0 & 0\\\\0 & 0 & 1 & 0 & 0 & 0\\\\0 & 0 & 0 & 0 & 0 & 1\\end{matrix}\\right], \\  \\left[\\begin{matrix}1 & 0 & 0\\\\0 & 1 & 0\\\\0 & 0 & 0\\\\0 & 0 & 1\\end{matrix}\\right], \\  \\left[\\begin{matrix}1\\\\1\\\\1\\\\0\\\\1\\\\1\\\\0\\\\0\\\\1\\end{matrix}\\right]\\right)$"
      ],
      "text/plain": [
       "⎛⎡0   0   0 ⎤  ⎡0  0  0  1  0  0⎤             ⎡1⎤⎞\n",
       "⎜⎢          ⎥  ⎢                ⎥             ⎢ ⎥⎟\n",
       "⎜⎢1   0   0 ⎥  ⎢1  0  0  0  0  0⎥             ⎢1⎥⎟\n",
       "⎜⎢          ⎥  ⎢                ⎥             ⎢ ⎥⎟\n",
       "⎜⎢0   1   0 ⎥  ⎢0  1  0  0  0  0⎥             ⎢1⎥⎟\n",
       "⎜⎢          ⎥  ⎢                ⎥  ⎡1  0  0⎤  ⎢ ⎥⎟\n",
       "⎜⎢-1  0   0 ⎥  ⎢1  0  0  0  0  0⎥  ⎢       ⎥  ⎢0⎥⎟\n",
       "⎜⎢          ⎥  ⎢                ⎥  ⎢0  1  0⎥  ⎢ ⎥⎟\n",
       "⎜⎢0   0   0 ⎥, ⎢0  0  0  0  1  0⎥, ⎢       ⎥, ⎢1⎥⎟\n",
       "⎜⎢          ⎥  ⎢                ⎥  ⎢0  0  0⎥  ⎢ ⎥⎟\n",
       "⎜⎢0   0   1 ⎥  ⎢0  0  1  0  0  0⎥  ⎢       ⎥  ⎢1⎥⎟\n",
       "⎜⎢          ⎥  ⎢                ⎥  ⎣0  0  1⎦  ⎢ ⎥⎟\n",
       "⎜⎢0   -1  0 ⎥  ⎢0  1  0  0  0  0⎥             ⎢0⎥⎟\n",
       "⎜⎢          ⎥  ⎢                ⎥             ⎢ ⎥⎟\n",
       "⎜⎢0   0   -1⎥  ⎢0  0  1  0  0  0⎥             ⎢0⎥⎟\n",
       "⎜⎢          ⎥  ⎢                ⎥             ⎢ ⎥⎟\n",
       "⎝⎣0   0   0 ⎦  ⎣0  0  0  0  0  1⎦             ⎣1⎦⎠"
      ]
     },
     "execution_count": 111,
     "metadata": {},
     "output_type": "execute_result"
    }
   ],
   "source": [
    "A = Matrix([[0, 1, 0, -1, 0, 0, 0, 0, 0], [0,0,1,0,0,0,-1,0,0], [0,0,0,0,0,1,0,-1,0]]).T\n",
    "A_ = Matrix([[0, 1, 0, 1, 0, 0, 0, 0, 0], [0,0,1,0,0,0,1,0,0], [0,0,0,0,0,1,0,1,0], [1,0,0,0,0,0,0,0,0], [0,0,0,0,1,0,0,0,0], [0,0,0,0,0,0,0,0,1]]).T\n",
    "U = Matrix([[1, 0, 0], [0,1,0], [0,0,0], [0,0,1]])\n",
    "B = Matrix([[1, 1, 1, 0,1,1,0,0,1]]).T\n",
    "\n",
    "A, A_, U, B"
   ]
  },
  {
   "cell_type": "code",
   "execution_count": 154,
   "metadata": {},
   "outputs": [
    {
     "data": {
      "text/latex": [
       "$\\displaystyle \\left( \\left[\\begin{matrix}2 & 1\\\\6 & 1\\\\1 & 1\\\\4 & 2\\end{matrix}\\right], \\  \\left[\\begin{matrix}1\\\\5\\\\6\\\\6\\end{matrix}\\right]\\right)$"
      ],
      "text/plain": [
       "⎛⎡2  1⎤  ⎡1⎤⎞\n",
       "⎜⎢    ⎥  ⎢ ⎥⎟\n",
       "⎜⎢6  1⎥  ⎢5⎥⎟\n",
       "⎜⎢    ⎥, ⎢ ⎥⎟\n",
       "⎜⎢1  1⎥  ⎢6⎥⎟\n",
       "⎜⎢    ⎥  ⎢ ⎥⎟\n",
       "⎝⎣4  2⎦  ⎣6⎦⎠"
      ]
     },
     "execution_count": 154,
     "metadata": {},
     "output_type": "execute_result"
    }
   ],
   "source": [
    "A = Matrix([[2,1], [6,1], [1,1], [4,2]])\n",
    "b = Matrix([[1,5,6,6]]).T\n",
    "A, b"
   ]
  },
  {
   "cell_type": "code",
   "execution_count": 155,
   "metadata": {},
   "outputs": [
    {
     "data": {
      "text/latex": [
       "$\\displaystyle \\left( \\left[\\begin{matrix}1 & 0\\\\0 & 1\\\\0 & 0\\\\0 & 0\\end{matrix}\\right], \\  \\left( 0, \\  1\\right)\\right)$"
      ],
      "text/plain": [
       "⎛⎡1  0⎤        ⎞\n",
       "⎜⎢    ⎥        ⎟\n",
       "⎜⎢0  1⎥        ⎟\n",
       "⎜⎢    ⎥, (0, 1)⎟\n",
       "⎜⎢0  0⎥        ⎟\n",
       "⎜⎢    ⎥        ⎟\n",
       "⎝⎣0  0⎦        ⎠"
      ]
     },
     "execution_count": 155,
     "metadata": {},
     "output_type": "execute_result"
    }
   ],
   "source": [
    "A.rref()"
   ]
  },
  {
   "cell_type": "code",
   "execution_count": 156,
   "metadata": {},
   "outputs": [
    {
     "data": {
      "image/png": "[encoded data removed]",
      "text/latex": [
       "$\\displaystyle 1$"
      ],
      "text/plain": [
       "1"
      ]
     },
     "execution_count": 156,
     "metadata": {},
     "output_type": "execute_result"
    }
   ],
   "source": [
    "(A.T*A).trace()/(A*A.T).trace()"
   ]
  },
  {
   "cell_type": "code",
   "execution_count": 157,
   "metadata": {},
   "outputs": [
    {
     "data": {
      "text/latex": [
       "$\\displaystyle \\left[\\begin{matrix}62\\\\24\\end{matrix}\\right]$"
      ],
      "text/plain": [
       "⎡62⎤\n",
       "⎢  ⎥\n",
       "⎣24⎦"
      ]
     },
     "execution_count": 157,
     "metadata": {},
     "output_type": "execute_result"
    }
   ],
   "source": [
    "A.T * b"
   ]
  },
  {
   "cell_type": "code",
   "execution_count": 150,
   "metadata": {},
   "outputs": [
    {
     "data": {
      "text/latex": [
       "$\\displaystyle \\left( \\left[\\begin{matrix}1 & 0\\\\0 & 1\\\\0 & 0\\\\0 & 0\\end{matrix}\\right], \\  \\left( 0, \\  1\\right)\\right)$"
      ],
      "text/plain": [
       "⎛⎡1  0⎤        ⎞\n",
       "⎜⎢    ⎥        ⎟\n",
       "⎜⎢0  1⎥        ⎟\n",
       "⎜⎢    ⎥, (0, 1)⎟\n",
       "⎜⎢0  0⎥        ⎟\n",
       "⎜⎢    ⎥        ⎟\n",
       "⎝⎣0  0⎦        ⎠"
      ]
     },
     "execution_count": 150,
     "metadata": {},
     "output_type": "execute_result"
    }
   ],
   "source": [
    "A.rref()"
   ]
  },
  {
   "cell_type": "code",
   "execution_count": 159,
   "metadata": {},
   "outputs": [
    {
     "data": {
      "text/latex": [
       "$\\displaystyle \\left[\\begin{matrix}\\frac{128}{55}\\\\- \\frac{8}{11}\\\\- \\frac{32}{11}\\\\\\frac{36}{55}\\end{matrix}\\right]$"
      ],
      "text/plain": [
       "⎡ 128 ⎤\n",
       "⎢ ─── ⎥\n",
       "⎢ 55  ⎥\n",
       "⎢     ⎥\n",
       "⎢-8/11⎥\n",
       "⎢     ⎥\n",
       "⎢-32  ⎥\n",
       "⎢──── ⎥\n",
       "⎢ 11  ⎥\n",
       "⎢     ⎥\n",
       "⎢ 36  ⎥\n",
       "⎢ ──  ⎥\n",
       "⎣ 55  ⎦"
      ]
     },
     "execution_count": 159,
     "metadata": {},
     "output_type": "execute_result"
    }
   ],
   "source": [
    "p_a = A*(A.T*A).inv()*A.T*b\n",
    "p_a-Matrix([[1,5, 6,6]]).T"
   ]
  },
  {
   "cell_type": "code",
   "execution_count": 183,
   "metadata": {},
   "outputs": [
    {
     "data": {
      "image/png": "[encoded data removed]",
      "text/latex": [
       "$\\displaystyle 24$"
      ],
      "text/plain": [
       "24"
      ]
     },
     "execution_count": 183,
     "metadata": {},
     "output_type": "execute_result"
    }
   ],
   "source": [
    "A = Matrix([[1,5], [6,6]])\n",
    "B = Matrix([[2,6], [1,4]])\n",
    "C = Matrix([[1,1], [1,2]])\n",
    "\n",
    "(A.T*C).trace()"
   ]
  },
  {
   "cell_type": "code",
   "execution_count": 166,
   "metadata": {},
   "outputs": [
    {
     "data": {
      "text/latex": [
       "$\\displaystyle \\left( \\left[\\begin{matrix}1 & 0 & - \\frac{13}{285}\\\\0 & 1 & \\frac{19}{5}\\end{matrix}\\right], \\  \\left( 0, \\  1\\right)\\right)$"
      ],
      "text/plain": [
       "⎛⎡      -13 ⎤        ⎞\n",
       "⎜⎢1  0  ────⎥        ⎟\n",
       "⎜⎢      285 ⎥, (0, 1)⎟\n",
       "⎜⎢          ⎥        ⎟\n",
       "⎝⎣0  1  19/5⎦        ⎠"
      ]
     },
     "execution_count": 166,
     "metadata": {},
     "output_type": "execute_result"
    }
   ],
   "source": [
    "A = Matrix([[57, 17, 62], [0,-10, -38]])\n",
    "A.rref()"
   ]
  },
  {
   "cell_type": "code",
   "execution_count": 187,
   "metadata": {},
   "outputs": [
    {
     "data": {
      "image/png": "[encoded data removed]",
      "text/latex": [
       "$\\displaystyle \\frac{\\sqrt{21497930852881039866169518281598705}}{36028797018963968}$"
      ],
      "text/plain": [
       "√21497930852881039866169518281598705\n",
       "────────────────────────────────────\n",
       "         36028797018963968          "
      ]
     },
     "execution_count": 187,
     "metadata": {},
     "output_type": "execute_result"
    }
   ],
   "source": [
    "from sympy import sqrt, Rational\n",
    "\n",
    "G = Rational(-13/285)*B+Rational(19/5)*C-A\n",
    "sqrt((G.T*G).trace())"
   ]
  },
  {
   "cell_type": "code",
   "execution_count": 189,
   "metadata": {},
   "outputs": [
    {
     "ename": "SyntaxError",
     "evalue": "invalid non-printable character U+200B (2973039220.py, line 1)",
     "output_type": "error",
     "traceback": [
      "\u001b[0;36m  Cell \u001b[0;32mIn[189], line 1\u001b[0;36m\u001b[0m\n\u001b[0;31m    np.sqrt(21497930852881039866169518281598705)​\u001b[0m\n\u001b[0m                                                ^\u001b[0m\n\u001b[0;31mSyntaxError\u001b[0m\u001b[0;31m:\u001b[0m invalid non-printable character U+200B\n"
     ]
    }
   ],
   "source": [
    "np.sqrt(21497930852881039866169518281598705)​"
   ]
  },
  {
   "cell_type": "code",
   "execution_count": 194,
   "metadata": {},
   "outputs": [
    {
     "data": {
      "image/png": "[encoded data removed]",
      "text/latex": [
       "$\\displaystyle 4.06957043295382$"
      ],
      "text/plain": [
       "4.069570432953818"
      ]
     },
     "execution_count": 194,
     "metadata": {},
     "output_type": "execute_result"
    }
   ],
   "source": [
    "from math import sqrt\n",
    "\n",
    "sqrt(21497930852881039866169518281598705)/36028797018963968"
   ]
  },
  {
   "cell_type": "code",
   "execution_count": 113,
   "metadata": {},
   "outputs": [
    {
     "data": {
      "text/latex": [
       "$\\displaystyle \\left[\\begin{matrix}1\\\\\\frac{1}{2}\\\\\\frac{1}{2}\\\\\\frac{1}{2}\\\\1\\\\\\frac{1}{2}\\\\\\frac{1}{2}\\\\\\frac{1}{2}\\\\1\\end{matrix}\\right]$"
      ],
      "text/plain": [
       "⎡ 1 ⎤\n",
       "⎢   ⎥\n",
       "⎢1/2⎥\n",
       "⎢   ⎥\n",
       "⎢1/2⎥\n",
       "⎢   ⎥\n",
       "⎢1/2⎥\n",
       "⎢   ⎥\n",
       "⎢ 1 ⎥\n",
       "⎢   ⎥\n",
       "⎢1/2⎥\n",
       "⎢   ⎥\n",
       "⎢1/2⎥\n",
       "⎢   ⎥\n",
       "⎢1/2⎥\n",
       "⎢   ⎥\n",
       "⎣ 1 ⎦"
      ]
     },
     "execution_count": 113,
     "metadata": {},
     "output_type": "execute_result"
    }
   ],
   "source": [
    "p_a_ = A_*(A_.T*A_).inv()*A_.T*B\n",
    "p_a_"
   ]
  },
  {
   "cell_type": "code",
   "execution_count": 126,
   "metadata": {},
   "outputs": [
    {
     "data": {
      "text/latex": [
       "$\\displaystyle \\left[\\begin{matrix}1\\\\1\\\\0\\\\1\\end{matrix}\\right]$"
      ],
      "text/plain": [
       "⎡1⎤\n",
       "⎢ ⎥\n",
       "⎢1⎥\n",
       "⎢ ⎥\n",
       "⎢0⎥\n",
       "⎢ ⎥\n",
       "⎣1⎦"
      ]
     },
     "execution_count": 126,
     "metadata": {},
     "output_type": "execute_result"
    }
   ],
   "source": [
    "p_U = U*(U.T*U).inv()*U.T*B\n",
    "p_U"
   ]
  },
  {
   "cell_type": "code",
   "execution_count": 7,
   "metadata": {},
   "outputs": [
    {
     "data": {
      "text/latex": [
       "$\\displaystyle \\left[\\begin{matrix}0.6 & 0.9\\\\0.4 & 0.1\\end{matrix}\\right]$"
      ],
      "text/plain": [
       "⎡0.6  0.9⎤\n",
       "⎢        ⎥\n",
       "⎣0.4  0.1⎦"
      ]
     },
     "execution_count": 7,
     "metadata": {},
     "output_type": "execute_result"
    }
   ],
   "source": [
    "A = Matrix([[.6,.9], [.4,.1]])\n",
    "A"
   ]
  },
  {
   "cell_type": "code",
   "execution_count": 17,
   "metadata": {},
   "outputs": [
    {
     "data": {
      "image/png": "[encoded data removed]",
      "text/latex": [
       "$\\displaystyle \\left\\{ -0.3 : 1, \\  1.0 : 1\\right\\}$"
      ],
      "text/plain": [
       "{-0.3: 1, 1.0: 1}"
      ]
     },
     "execution_count": 17,
     "metadata": {},
     "output_type": "execute_result"
    }
   ],
   "source": [
    "A.eigenvals()"
   ]
  },
  {
   "cell_type": "code",
   "execution_count": 15,
   "metadata": {},
   "outputs": [
    {
     "data": {
      "image/png": "[encoded data removed]",
      "text/latex": [
       "$\\displaystyle 1$"
      ],
      "text/plain": [
       "1"
      ]
     },
     "execution_count": 15,
     "metadata": {},
     "output_type": "execute_result"
    }
   ],
   "source": [
    "from random import randint\n",
    "n = 10\n",
    "lambdas = [symbols(f'λ{i}') for i in range(n)]\n",
    "lambdas\n",
    "A = Matrix([[lambdas[i]/lambdas[j] for j in range(n)] for i in range(n)])\n",
    "A.rank()"
   ]
  }
 ],
 "metadata": {
  "kernelspec": {
   "display_name": "la",
   "language": "python",
   "name": "python3"
  },
  "language_info": {
   "codemirror_mode": {
    "name": "ipython",
    "version": 3
   },
   "file_extension": ".py",
   "mimetype": "text/x-python",
   "name": "python",
   "nbconvert_exporter": "python",
   "pygments_lexer": "ipython3",
   "version": "3.12.6"
  }
 },
 "nbformat": 4,
 "nbformat_minor": 2
}
